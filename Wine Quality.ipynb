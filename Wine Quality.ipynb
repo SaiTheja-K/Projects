{
 "cells": [
  {
   "cell_type": "markdown",
   "id": "a0fada72",
   "metadata": {},
   "source": [
    "## Wine Quality Prediction Using Machine Learning(Python)\n",
    "\n",
    "## Attribute Information:\n",
    "\n",
    "### Input variables (based on physicochemical tests):\n",
    "#### 1 - fixed acidity\n",
    "#### 2 - volatile acidity\n",
    "#### 3 - citric acid\n",
    "#### 4 - residual sugar\n",
    "#### 5 - chlorides\n",
    "#### 6 - free sulfur dioxide\n",
    "#### 7 - total sulfur dioxide\n",
    "#### 8 - density\n",
    "#### 9 - pH\n",
    "#### 10 - sulphates\n",
    "#### 11 - alcohol\n",
    "\n",
    "### Output variable (based on sensory data):\n",
    "#### 12 - quality (score between 0 and 10)"
   ]
  },
  {
   "cell_type": "markdown",
   "id": "67cefdf2",
   "metadata": {},
   "source": [
    "### Import Libraries"
   ]
  },
  {
   "cell_type": "code",
   "execution_count": 1,
   "id": "daedbe51",
   "metadata": {},
   "outputs": [],
   "source": [
    "import pandas as pd\n",
    "import numpy as np \n",
    "\n",
    "import matplotlib.pyplot as plt\n",
    "import seaborn as sns\n",
    "%matplotlib inline\n",
    "\n",
    "import warnings\n",
    "warnings.filterwarnings('ignore')\n",
    "\n",
    "from sklearn.preprocessing import LabelEncoder,MinMaxScaler\n",
    "from sklearn.feature_selection import SelectKBest\n",
    "from sklearn.feature_selection import chi2\n",
    "from sklearn.model_selection import train_test_split,RandomizedSearchCV,GridSearchCV\n",
    "\n",
    "from sklearn.linear_model import LogisticRegression\n",
    "from sklearn.metrics import accuracy_score, confusion_matrix, classification_report\n",
    "from sklearn.ensemble import RandomForestClassifier,GradientBoostingClassifier\n",
    "from sklearn.tree import DecisionTreeClassifier\n",
    "from sklearn.tree import plot_tree\n",
    "from sklearn.neighbors import KNeighborsClassifier\n",
    "from xgboost import XGBClassifier"
   ]
  },
  {
   "cell_type": "markdown",
   "id": "939a8c3f",
   "metadata": {},
   "source": [
    "### Import Data "
   ]
  },
  {
   "cell_type": "code",
   "execution_count": 2,
   "id": "6c2d21f7",
   "metadata": {},
   "outputs": [
    {
     "data": {
      "text/html": [
       "<div>\n",
       "<style scoped>\n",
       "    .dataframe tbody tr th:only-of-type {\n",
       "        vertical-align: middle;\n",
       "    }\n",
       "\n",
       "    .dataframe tbody tr th {\n",
       "        vertical-align: top;\n",
       "    }\n",
       "\n",
       "    .dataframe thead th {\n",
       "        text-align: right;\n",
       "    }\n",
       "</style>\n",
       "<table border=\"1\" class=\"dataframe\">\n",
       "  <thead>\n",
       "    <tr style=\"text-align: right;\">\n",
       "      <th></th>\n",
       "      <th>type</th>\n",
       "      <th>fixed acidity</th>\n",
       "      <th>volatile acidity</th>\n",
       "      <th>citric acid</th>\n",
       "      <th>residual sugar</th>\n",
       "      <th>chlorides</th>\n",
       "      <th>free sulfur dioxide</th>\n",
       "      <th>total sulfur dioxide</th>\n",
       "      <th>density</th>\n",
       "      <th>pH</th>\n",
       "      <th>sulphates</th>\n",
       "      <th>alcohol</th>\n",
       "      <th>quality</th>\n",
       "    </tr>\n",
       "  </thead>\n",
       "  <tbody>\n",
       "    <tr>\n",
       "      <th>0</th>\n",
       "      <td>white</td>\n",
       "      <td>7.0</td>\n",
       "      <td>0.270</td>\n",
       "      <td>0.36</td>\n",
       "      <td>20.7</td>\n",
       "      <td>0.045</td>\n",
       "      <td>45.0</td>\n",
       "      <td>170.0</td>\n",
       "      <td>1.00100</td>\n",
       "      <td>3.00</td>\n",
       "      <td>0.45</td>\n",
       "      <td>8.8</td>\n",
       "      <td>6</td>\n",
       "    </tr>\n",
       "    <tr>\n",
       "      <th>1</th>\n",
       "      <td>white</td>\n",
       "      <td>6.3</td>\n",
       "      <td>0.300</td>\n",
       "      <td>0.34</td>\n",
       "      <td>1.6</td>\n",
       "      <td>0.049</td>\n",
       "      <td>14.0</td>\n",
       "      <td>132.0</td>\n",
       "      <td>0.99400</td>\n",
       "      <td>3.30</td>\n",
       "      <td>0.49</td>\n",
       "      <td>9.5</td>\n",
       "      <td>6</td>\n",
       "    </tr>\n",
       "    <tr>\n",
       "      <th>2</th>\n",
       "      <td>white</td>\n",
       "      <td>8.1</td>\n",
       "      <td>0.280</td>\n",
       "      <td>0.40</td>\n",
       "      <td>6.9</td>\n",
       "      <td>0.050</td>\n",
       "      <td>30.0</td>\n",
       "      <td>97.0</td>\n",
       "      <td>0.99510</td>\n",
       "      <td>3.26</td>\n",
       "      <td>0.44</td>\n",
       "      <td>10.1</td>\n",
       "      <td>6</td>\n",
       "    </tr>\n",
       "    <tr>\n",
       "      <th>3</th>\n",
       "      <td>white</td>\n",
       "      <td>7.2</td>\n",
       "      <td>0.230</td>\n",
       "      <td>0.32</td>\n",
       "      <td>8.5</td>\n",
       "      <td>0.058</td>\n",
       "      <td>47.0</td>\n",
       "      <td>186.0</td>\n",
       "      <td>0.99560</td>\n",
       "      <td>3.19</td>\n",
       "      <td>0.40</td>\n",
       "      <td>9.9</td>\n",
       "      <td>6</td>\n",
       "    </tr>\n",
       "    <tr>\n",
       "      <th>4</th>\n",
       "      <td>white</td>\n",
       "      <td>7.2</td>\n",
       "      <td>0.230</td>\n",
       "      <td>0.32</td>\n",
       "      <td>8.5</td>\n",
       "      <td>0.058</td>\n",
       "      <td>47.0</td>\n",
       "      <td>186.0</td>\n",
       "      <td>0.99560</td>\n",
       "      <td>3.19</td>\n",
       "      <td>0.40</td>\n",
       "      <td>9.9</td>\n",
       "      <td>6</td>\n",
       "    </tr>\n",
       "    <tr>\n",
       "      <th>...</th>\n",
       "      <td>...</td>\n",
       "      <td>...</td>\n",
       "      <td>...</td>\n",
       "      <td>...</td>\n",
       "      <td>...</td>\n",
       "      <td>...</td>\n",
       "      <td>...</td>\n",
       "      <td>...</td>\n",
       "      <td>...</td>\n",
       "      <td>...</td>\n",
       "      <td>...</td>\n",
       "      <td>...</td>\n",
       "      <td>...</td>\n",
       "    </tr>\n",
       "    <tr>\n",
       "      <th>6492</th>\n",
       "      <td>red</td>\n",
       "      <td>6.2</td>\n",
       "      <td>0.600</td>\n",
       "      <td>0.08</td>\n",
       "      <td>2.0</td>\n",
       "      <td>0.090</td>\n",
       "      <td>32.0</td>\n",
       "      <td>44.0</td>\n",
       "      <td>0.99490</td>\n",
       "      <td>3.45</td>\n",
       "      <td>0.58</td>\n",
       "      <td>10.5</td>\n",
       "      <td>5</td>\n",
       "    </tr>\n",
       "    <tr>\n",
       "      <th>6493</th>\n",
       "      <td>red</td>\n",
       "      <td>5.9</td>\n",
       "      <td>0.550</td>\n",
       "      <td>0.10</td>\n",
       "      <td>2.2</td>\n",
       "      <td>0.062</td>\n",
       "      <td>39.0</td>\n",
       "      <td>51.0</td>\n",
       "      <td>0.99512</td>\n",
       "      <td>3.52</td>\n",
       "      <td>NaN</td>\n",
       "      <td>11.2</td>\n",
       "      <td>6</td>\n",
       "    </tr>\n",
       "    <tr>\n",
       "      <th>6494</th>\n",
       "      <td>red</td>\n",
       "      <td>6.3</td>\n",
       "      <td>0.510</td>\n",
       "      <td>0.13</td>\n",
       "      <td>2.3</td>\n",
       "      <td>0.076</td>\n",
       "      <td>29.0</td>\n",
       "      <td>40.0</td>\n",
       "      <td>0.99574</td>\n",
       "      <td>3.42</td>\n",
       "      <td>0.75</td>\n",
       "      <td>11.0</td>\n",
       "      <td>6</td>\n",
       "    </tr>\n",
       "    <tr>\n",
       "      <th>6495</th>\n",
       "      <td>red</td>\n",
       "      <td>5.9</td>\n",
       "      <td>0.645</td>\n",
       "      <td>0.12</td>\n",
       "      <td>2.0</td>\n",
       "      <td>0.075</td>\n",
       "      <td>32.0</td>\n",
       "      <td>44.0</td>\n",
       "      <td>0.99547</td>\n",
       "      <td>3.57</td>\n",
       "      <td>0.71</td>\n",
       "      <td>10.2</td>\n",
       "      <td>5</td>\n",
       "    </tr>\n",
       "    <tr>\n",
       "      <th>6496</th>\n",
       "      <td>red</td>\n",
       "      <td>6.0</td>\n",
       "      <td>0.310</td>\n",
       "      <td>0.47</td>\n",
       "      <td>3.6</td>\n",
       "      <td>0.067</td>\n",
       "      <td>18.0</td>\n",
       "      <td>42.0</td>\n",
       "      <td>0.99549</td>\n",
       "      <td>3.39</td>\n",
       "      <td>0.66</td>\n",
       "      <td>11.0</td>\n",
       "      <td>6</td>\n",
       "    </tr>\n",
       "  </tbody>\n",
       "</table>\n",
       "<p>6497 rows × 13 columns</p>\n",
       "</div>"
      ],
      "text/plain": [
       "       type  fixed acidity  volatile acidity  citric acid  residual sugar  \\\n",
       "0     white            7.0             0.270         0.36            20.7   \n",
       "1     white            6.3             0.300         0.34             1.6   \n",
       "2     white            8.1             0.280         0.40             6.9   \n",
       "3     white            7.2             0.230         0.32             8.5   \n",
       "4     white            7.2             0.230         0.32             8.5   \n",
       "...     ...            ...               ...          ...             ...   \n",
       "6492    red            6.2             0.600         0.08             2.0   \n",
       "6493    red            5.9             0.550         0.10             2.2   \n",
       "6494    red            6.3             0.510         0.13             2.3   \n",
       "6495    red            5.9             0.645         0.12             2.0   \n",
       "6496    red            6.0             0.310         0.47             3.6   \n",
       "\n",
       "      chlorides  free sulfur dioxide  total sulfur dioxide  density    pH  \\\n",
       "0         0.045                 45.0                 170.0  1.00100  3.00   \n",
       "1         0.049                 14.0                 132.0  0.99400  3.30   \n",
       "2         0.050                 30.0                  97.0  0.99510  3.26   \n",
       "3         0.058                 47.0                 186.0  0.99560  3.19   \n",
       "4         0.058                 47.0                 186.0  0.99560  3.19   \n",
       "...         ...                  ...                   ...      ...   ...   \n",
       "6492      0.090                 32.0                  44.0  0.99490  3.45   \n",
       "6493      0.062                 39.0                  51.0  0.99512  3.52   \n",
       "6494      0.076                 29.0                  40.0  0.99574  3.42   \n",
       "6495      0.075                 32.0                  44.0  0.99547  3.57   \n",
       "6496      0.067                 18.0                  42.0  0.99549  3.39   \n",
       "\n",
       "      sulphates  alcohol  quality  \n",
       "0          0.45      8.8        6  \n",
       "1          0.49      9.5        6  \n",
       "2          0.44     10.1        6  \n",
       "3          0.40      9.9        6  \n",
       "4          0.40      9.9        6  \n",
       "...         ...      ...      ...  \n",
       "6492       0.58     10.5        5  \n",
       "6493        NaN     11.2        6  \n",
       "6494       0.75     11.0        6  \n",
       "6495       0.71     10.2        5  \n",
       "6496       0.66     11.0        6  \n",
       "\n",
       "[6497 rows x 13 columns]"
      ]
     },
     "execution_count": 2,
     "metadata": {},
     "output_type": "execute_result"
    }
   ],
   "source": [
    "wine_data = pd.read_csv('winequality.csv')\n",
    "wine_data"
   ]
  },
  {
   "cell_type": "code",
   "execution_count": 3,
   "id": "c153807c",
   "metadata": {},
   "outputs": [
    {
     "data": {
      "text/html": [
       "<div>\n",
       "<style scoped>\n",
       "    .dataframe tbody tr th:only-of-type {\n",
       "        vertical-align: middle;\n",
       "    }\n",
       "\n",
       "    .dataframe tbody tr th {\n",
       "        vertical-align: top;\n",
       "    }\n",
       "\n",
       "    .dataframe thead th {\n",
       "        text-align: right;\n",
       "    }\n",
       "</style>\n",
       "<table border=\"1\" class=\"dataframe\">\n",
       "  <thead>\n",
       "    <tr style=\"text-align: right;\">\n",
       "      <th></th>\n",
       "      <th>type</th>\n",
       "      <th>fixed acidity</th>\n",
       "      <th>volatile acidity</th>\n",
       "      <th>citric acid</th>\n",
       "      <th>residual sugar</th>\n",
       "      <th>chlorides</th>\n",
       "      <th>free sulfur dioxide</th>\n",
       "      <th>total sulfur dioxide</th>\n",
       "      <th>density</th>\n",
       "      <th>pH</th>\n",
       "      <th>sulphates</th>\n",
       "      <th>alcohol</th>\n",
       "      <th>quality</th>\n",
       "    </tr>\n",
       "  </thead>\n",
       "  <tbody>\n",
       "    <tr>\n",
       "      <th>0</th>\n",
       "      <td>white</td>\n",
       "      <td>7.0</td>\n",
       "      <td>0.27</td>\n",
       "      <td>0.36</td>\n",
       "      <td>20.7</td>\n",
       "      <td>0.045</td>\n",
       "      <td>45.0</td>\n",
       "      <td>170.0</td>\n",
       "      <td>1.0010</td>\n",
       "      <td>3.00</td>\n",
       "      <td>0.45</td>\n",
       "      <td>8.8</td>\n",
       "      <td>6</td>\n",
       "    </tr>\n",
       "    <tr>\n",
       "      <th>1</th>\n",
       "      <td>white</td>\n",
       "      <td>6.3</td>\n",
       "      <td>0.30</td>\n",
       "      <td>0.34</td>\n",
       "      <td>1.6</td>\n",
       "      <td>0.049</td>\n",
       "      <td>14.0</td>\n",
       "      <td>132.0</td>\n",
       "      <td>0.9940</td>\n",
       "      <td>3.30</td>\n",
       "      <td>0.49</td>\n",
       "      <td>9.5</td>\n",
       "      <td>6</td>\n",
       "    </tr>\n",
       "    <tr>\n",
       "      <th>2</th>\n",
       "      <td>white</td>\n",
       "      <td>8.1</td>\n",
       "      <td>0.28</td>\n",
       "      <td>0.40</td>\n",
       "      <td>6.9</td>\n",
       "      <td>0.050</td>\n",
       "      <td>30.0</td>\n",
       "      <td>97.0</td>\n",
       "      <td>0.9951</td>\n",
       "      <td>3.26</td>\n",
       "      <td>0.44</td>\n",
       "      <td>10.1</td>\n",
       "      <td>6</td>\n",
       "    </tr>\n",
       "    <tr>\n",
       "      <th>3</th>\n",
       "      <td>white</td>\n",
       "      <td>7.2</td>\n",
       "      <td>0.23</td>\n",
       "      <td>0.32</td>\n",
       "      <td>8.5</td>\n",
       "      <td>0.058</td>\n",
       "      <td>47.0</td>\n",
       "      <td>186.0</td>\n",
       "      <td>0.9956</td>\n",
       "      <td>3.19</td>\n",
       "      <td>0.40</td>\n",
       "      <td>9.9</td>\n",
       "      <td>6</td>\n",
       "    </tr>\n",
       "    <tr>\n",
       "      <th>4</th>\n",
       "      <td>white</td>\n",
       "      <td>7.2</td>\n",
       "      <td>0.23</td>\n",
       "      <td>0.32</td>\n",
       "      <td>8.5</td>\n",
       "      <td>0.058</td>\n",
       "      <td>47.0</td>\n",
       "      <td>186.0</td>\n",
       "      <td>0.9956</td>\n",
       "      <td>3.19</td>\n",
       "      <td>0.40</td>\n",
       "      <td>9.9</td>\n",
       "      <td>6</td>\n",
       "    </tr>\n",
       "  </tbody>\n",
       "</table>\n",
       "</div>"
      ],
      "text/plain": [
       "    type  fixed acidity  volatile acidity  citric acid  residual sugar  \\\n",
       "0  white            7.0              0.27         0.36            20.7   \n",
       "1  white            6.3              0.30         0.34             1.6   \n",
       "2  white            8.1              0.28         0.40             6.9   \n",
       "3  white            7.2              0.23         0.32             8.5   \n",
       "4  white            7.2              0.23         0.32             8.5   \n",
       "\n",
       "   chlorides  free sulfur dioxide  total sulfur dioxide  density    pH  \\\n",
       "0      0.045                 45.0                 170.0   1.0010  3.00   \n",
       "1      0.049                 14.0                 132.0   0.9940  3.30   \n",
       "2      0.050                 30.0                  97.0   0.9951  3.26   \n",
       "3      0.058                 47.0                 186.0   0.9956  3.19   \n",
       "4      0.058                 47.0                 186.0   0.9956  3.19   \n",
       "\n",
       "   sulphates  alcohol  quality  \n",
       "0       0.45      8.8        6  \n",
       "1       0.49      9.5        6  \n",
       "2       0.44     10.1        6  \n",
       "3       0.40      9.9        6  \n",
       "4       0.40      9.9        6  "
      ]
     },
     "execution_count": 3,
     "metadata": {},
     "output_type": "execute_result"
    }
   ],
   "source": [
    "wine_data.head()"
   ]
  },
  {
   "cell_type": "code",
   "execution_count": 4,
   "id": "3a723155",
   "metadata": {},
   "outputs": [
    {
     "data": {
      "text/html": [
       "<div>\n",
       "<style scoped>\n",
       "    .dataframe tbody tr th:only-of-type {\n",
       "        vertical-align: middle;\n",
       "    }\n",
       "\n",
       "    .dataframe tbody tr th {\n",
       "        vertical-align: top;\n",
       "    }\n",
       "\n",
       "    .dataframe thead th {\n",
       "        text-align: right;\n",
       "    }\n",
       "</style>\n",
       "<table border=\"1\" class=\"dataframe\">\n",
       "  <thead>\n",
       "    <tr style=\"text-align: right;\">\n",
       "      <th></th>\n",
       "      <th>type</th>\n",
       "      <th>fixed acidity</th>\n",
       "      <th>volatile acidity</th>\n",
       "      <th>citric acid</th>\n",
       "      <th>residual sugar</th>\n",
       "      <th>chlorides</th>\n",
       "      <th>free sulfur dioxide</th>\n",
       "      <th>total sulfur dioxide</th>\n",
       "      <th>density</th>\n",
       "      <th>pH</th>\n",
       "      <th>sulphates</th>\n",
       "      <th>alcohol</th>\n",
       "      <th>quality</th>\n",
       "    </tr>\n",
       "  </thead>\n",
       "  <tbody>\n",
       "    <tr>\n",
       "      <th>6492</th>\n",
       "      <td>red</td>\n",
       "      <td>6.2</td>\n",
       "      <td>0.600</td>\n",
       "      <td>0.08</td>\n",
       "      <td>2.0</td>\n",
       "      <td>0.090</td>\n",
       "      <td>32.0</td>\n",
       "      <td>44.0</td>\n",
       "      <td>0.99490</td>\n",
       "      <td>3.45</td>\n",
       "      <td>0.58</td>\n",
       "      <td>10.5</td>\n",
       "      <td>5</td>\n",
       "    </tr>\n",
       "    <tr>\n",
       "      <th>6493</th>\n",
       "      <td>red</td>\n",
       "      <td>5.9</td>\n",
       "      <td>0.550</td>\n",
       "      <td>0.10</td>\n",
       "      <td>2.2</td>\n",
       "      <td>0.062</td>\n",
       "      <td>39.0</td>\n",
       "      <td>51.0</td>\n",
       "      <td>0.99512</td>\n",
       "      <td>3.52</td>\n",
       "      <td>NaN</td>\n",
       "      <td>11.2</td>\n",
       "      <td>6</td>\n",
       "    </tr>\n",
       "    <tr>\n",
       "      <th>6494</th>\n",
       "      <td>red</td>\n",
       "      <td>6.3</td>\n",
       "      <td>0.510</td>\n",
       "      <td>0.13</td>\n",
       "      <td>2.3</td>\n",
       "      <td>0.076</td>\n",
       "      <td>29.0</td>\n",
       "      <td>40.0</td>\n",
       "      <td>0.99574</td>\n",
       "      <td>3.42</td>\n",
       "      <td>0.75</td>\n",
       "      <td>11.0</td>\n",
       "      <td>6</td>\n",
       "    </tr>\n",
       "    <tr>\n",
       "      <th>6495</th>\n",
       "      <td>red</td>\n",
       "      <td>5.9</td>\n",
       "      <td>0.645</td>\n",
       "      <td>0.12</td>\n",
       "      <td>2.0</td>\n",
       "      <td>0.075</td>\n",
       "      <td>32.0</td>\n",
       "      <td>44.0</td>\n",
       "      <td>0.99547</td>\n",
       "      <td>3.57</td>\n",
       "      <td>0.71</td>\n",
       "      <td>10.2</td>\n",
       "      <td>5</td>\n",
       "    </tr>\n",
       "    <tr>\n",
       "      <th>6496</th>\n",
       "      <td>red</td>\n",
       "      <td>6.0</td>\n",
       "      <td>0.310</td>\n",
       "      <td>0.47</td>\n",
       "      <td>3.6</td>\n",
       "      <td>0.067</td>\n",
       "      <td>18.0</td>\n",
       "      <td>42.0</td>\n",
       "      <td>0.99549</td>\n",
       "      <td>3.39</td>\n",
       "      <td>0.66</td>\n",
       "      <td>11.0</td>\n",
       "      <td>6</td>\n",
       "    </tr>\n",
       "  </tbody>\n",
       "</table>\n",
       "</div>"
      ],
      "text/plain": [
       "     type  fixed acidity  volatile acidity  citric acid  residual sugar  \\\n",
       "6492  red            6.2             0.600         0.08             2.0   \n",
       "6493  red            5.9             0.550         0.10             2.2   \n",
       "6494  red            6.3             0.510         0.13             2.3   \n",
       "6495  red            5.9             0.645         0.12             2.0   \n",
       "6496  red            6.0             0.310         0.47             3.6   \n",
       "\n",
       "      chlorides  free sulfur dioxide  total sulfur dioxide  density    pH  \\\n",
       "6492      0.090                 32.0                  44.0  0.99490  3.45   \n",
       "6493      0.062                 39.0                  51.0  0.99512  3.52   \n",
       "6494      0.076                 29.0                  40.0  0.99574  3.42   \n",
       "6495      0.075                 32.0                  44.0  0.99547  3.57   \n",
       "6496      0.067                 18.0                  42.0  0.99549  3.39   \n",
       "\n",
       "      sulphates  alcohol  quality  \n",
       "6492       0.58     10.5        5  \n",
       "6493        NaN     11.2        6  \n",
       "6494       0.75     11.0        6  \n",
       "6495       0.71     10.2        5  \n",
       "6496       0.66     11.0        6  "
      ]
     },
     "execution_count": 4,
     "metadata": {},
     "output_type": "execute_result"
    }
   ],
   "source": [
    "wine_data.tail()"
   ]
  },
  {
   "cell_type": "markdown",
   "id": "e4e45bd4",
   "metadata": {},
   "source": [
    "### Data Understanding"
   ]
  },
  {
   "cell_type": "code",
   "execution_count": 5,
   "id": "79333700",
   "metadata": {},
   "outputs": [
    {
     "data": {
      "text/plain": [
       "(6497, 13)"
      ]
     },
     "execution_count": 5,
     "metadata": {},
     "output_type": "execute_result"
    }
   ],
   "source": [
    "wine_data.shape"
   ]
  },
  {
   "cell_type": "code",
   "execution_count": 6,
   "id": "2e613a64",
   "metadata": {},
   "outputs": [
    {
     "name": "stdout",
     "output_type": "stream",
     "text": [
      "<class 'pandas.core.frame.DataFrame'>\n",
      "RangeIndex: 6497 entries, 0 to 6496\n",
      "Data columns (total 13 columns):\n",
      " #   Column                Non-Null Count  Dtype  \n",
      "---  ------                --------------  -----  \n",
      " 0   type                  6497 non-null   object \n",
      " 1   fixed acidity         6487 non-null   float64\n",
      " 2   volatile acidity      6489 non-null   float64\n",
      " 3   citric acid           6494 non-null   float64\n",
      " 4   residual sugar        6495 non-null   float64\n",
      " 5   chlorides             6495 non-null   float64\n",
      " 6   free sulfur dioxide   6497 non-null   float64\n",
      " 7   total sulfur dioxide  6497 non-null   float64\n",
      " 8   density               6497 non-null   float64\n",
      " 9   pH                    6488 non-null   float64\n",
      " 10  sulphates             6493 non-null   float64\n",
      " 11  alcohol               6497 non-null   float64\n",
      " 12  quality               6497 non-null   int64  \n",
      "dtypes: float64(11), int64(1), object(1)\n",
      "memory usage: 660.0+ KB\n"
     ]
    }
   ],
   "source": [
    "wine_data.info()"
   ]
  },
  {
   "cell_type": "code",
   "execution_count": 7,
   "id": "3c4b2196",
   "metadata": {},
   "outputs": [
    {
     "data": {
      "text/html": [
       "<div>\n",
       "<style scoped>\n",
       "    .dataframe tbody tr th:only-of-type {\n",
       "        vertical-align: middle;\n",
       "    }\n",
       "\n",
       "    .dataframe tbody tr th {\n",
       "        vertical-align: top;\n",
       "    }\n",
       "\n",
       "    .dataframe thead th {\n",
       "        text-align: right;\n",
       "    }\n",
       "</style>\n",
       "<table border=\"1\" class=\"dataframe\">\n",
       "  <thead>\n",
       "    <tr style=\"text-align: right;\">\n",
       "      <th></th>\n",
       "      <th>count</th>\n",
       "      <th>mean</th>\n",
       "      <th>std</th>\n",
       "      <th>min</th>\n",
       "      <th>25%</th>\n",
       "      <th>50%</th>\n",
       "      <th>75%</th>\n",
       "      <th>max</th>\n",
       "    </tr>\n",
       "  </thead>\n",
       "  <tbody>\n",
       "    <tr>\n",
       "      <th>fixed acidity</th>\n",
       "      <td>6487.0</td>\n",
       "      <td>7.216579</td>\n",
       "      <td>1.296750</td>\n",
       "      <td>3.80000</td>\n",
       "      <td>6.40000</td>\n",
       "      <td>7.00000</td>\n",
       "      <td>7.70000</td>\n",
       "      <td>15.90000</td>\n",
       "    </tr>\n",
       "    <tr>\n",
       "      <th>volatile acidity</th>\n",
       "      <td>6489.0</td>\n",
       "      <td>0.339691</td>\n",
       "      <td>0.164649</td>\n",
       "      <td>0.08000</td>\n",
       "      <td>0.23000</td>\n",
       "      <td>0.29000</td>\n",
       "      <td>0.40000</td>\n",
       "      <td>1.58000</td>\n",
       "    </tr>\n",
       "    <tr>\n",
       "      <th>citric acid</th>\n",
       "      <td>6494.0</td>\n",
       "      <td>0.318722</td>\n",
       "      <td>0.145265</td>\n",
       "      <td>0.00000</td>\n",
       "      <td>0.25000</td>\n",
       "      <td>0.31000</td>\n",
       "      <td>0.39000</td>\n",
       "      <td>1.66000</td>\n",
       "    </tr>\n",
       "    <tr>\n",
       "      <th>residual sugar</th>\n",
       "      <td>6495.0</td>\n",
       "      <td>5.444326</td>\n",
       "      <td>4.758125</td>\n",
       "      <td>0.60000</td>\n",
       "      <td>1.80000</td>\n",
       "      <td>3.00000</td>\n",
       "      <td>8.10000</td>\n",
       "      <td>65.80000</td>\n",
       "    </tr>\n",
       "    <tr>\n",
       "      <th>chlorides</th>\n",
       "      <td>6495.0</td>\n",
       "      <td>0.056042</td>\n",
       "      <td>0.035036</td>\n",
       "      <td>0.00900</td>\n",
       "      <td>0.03800</td>\n",
       "      <td>0.04700</td>\n",
       "      <td>0.06500</td>\n",
       "      <td>0.61100</td>\n",
       "    </tr>\n",
       "    <tr>\n",
       "      <th>free sulfur dioxide</th>\n",
       "      <td>6497.0</td>\n",
       "      <td>30.525319</td>\n",
       "      <td>17.749400</td>\n",
       "      <td>1.00000</td>\n",
       "      <td>17.00000</td>\n",
       "      <td>29.00000</td>\n",
       "      <td>41.00000</td>\n",
       "      <td>289.00000</td>\n",
       "    </tr>\n",
       "    <tr>\n",
       "      <th>total sulfur dioxide</th>\n",
       "      <td>6497.0</td>\n",
       "      <td>115.744574</td>\n",
       "      <td>56.521855</td>\n",
       "      <td>6.00000</td>\n",
       "      <td>77.00000</td>\n",
       "      <td>118.00000</td>\n",
       "      <td>156.00000</td>\n",
       "      <td>440.00000</td>\n",
       "    </tr>\n",
       "    <tr>\n",
       "      <th>density</th>\n",
       "      <td>6497.0</td>\n",
       "      <td>0.994697</td>\n",
       "      <td>0.002999</td>\n",
       "      <td>0.98711</td>\n",
       "      <td>0.99234</td>\n",
       "      <td>0.99489</td>\n",
       "      <td>0.99699</td>\n",
       "      <td>1.03898</td>\n",
       "    </tr>\n",
       "    <tr>\n",
       "      <th>pH</th>\n",
       "      <td>6488.0</td>\n",
       "      <td>3.218395</td>\n",
       "      <td>0.160748</td>\n",
       "      <td>2.72000</td>\n",
       "      <td>3.11000</td>\n",
       "      <td>3.21000</td>\n",
       "      <td>3.32000</td>\n",
       "      <td>4.01000</td>\n",
       "    </tr>\n",
       "    <tr>\n",
       "      <th>sulphates</th>\n",
       "      <td>6493.0</td>\n",
       "      <td>0.531215</td>\n",
       "      <td>0.148814</td>\n",
       "      <td>0.22000</td>\n",
       "      <td>0.43000</td>\n",
       "      <td>0.51000</td>\n",
       "      <td>0.60000</td>\n",
       "      <td>2.00000</td>\n",
       "    </tr>\n",
       "    <tr>\n",
       "      <th>alcohol</th>\n",
       "      <td>6497.0</td>\n",
       "      <td>10.491801</td>\n",
       "      <td>1.192712</td>\n",
       "      <td>8.00000</td>\n",
       "      <td>9.50000</td>\n",
       "      <td>10.30000</td>\n",
       "      <td>11.30000</td>\n",
       "      <td>14.90000</td>\n",
       "    </tr>\n",
       "    <tr>\n",
       "      <th>quality</th>\n",
       "      <td>6497.0</td>\n",
       "      <td>5.818378</td>\n",
       "      <td>0.873255</td>\n",
       "      <td>3.00000</td>\n",
       "      <td>5.00000</td>\n",
       "      <td>6.00000</td>\n",
       "      <td>6.00000</td>\n",
       "      <td>9.00000</td>\n",
       "    </tr>\n",
       "  </tbody>\n",
       "</table>\n",
       "</div>"
      ],
      "text/plain": [
       "                       count        mean        std      min       25%  \\\n",
       "fixed acidity         6487.0    7.216579   1.296750  3.80000   6.40000   \n",
       "volatile acidity      6489.0    0.339691   0.164649  0.08000   0.23000   \n",
       "citric acid           6494.0    0.318722   0.145265  0.00000   0.25000   \n",
       "residual sugar        6495.0    5.444326   4.758125  0.60000   1.80000   \n",
       "chlorides             6495.0    0.056042   0.035036  0.00900   0.03800   \n",
       "free sulfur dioxide   6497.0   30.525319  17.749400  1.00000  17.00000   \n",
       "total sulfur dioxide  6497.0  115.744574  56.521855  6.00000  77.00000   \n",
       "density               6497.0    0.994697   0.002999  0.98711   0.99234   \n",
       "pH                    6488.0    3.218395   0.160748  2.72000   3.11000   \n",
       "sulphates             6493.0    0.531215   0.148814  0.22000   0.43000   \n",
       "alcohol               6497.0   10.491801   1.192712  8.00000   9.50000   \n",
       "quality               6497.0    5.818378   0.873255  3.00000   5.00000   \n",
       "\n",
       "                            50%        75%        max  \n",
       "fixed acidity           7.00000    7.70000   15.90000  \n",
       "volatile acidity        0.29000    0.40000    1.58000  \n",
       "citric acid             0.31000    0.39000    1.66000  \n",
       "residual sugar          3.00000    8.10000   65.80000  \n",
       "chlorides               0.04700    0.06500    0.61100  \n",
       "free sulfur dioxide    29.00000   41.00000  289.00000  \n",
       "total sulfur dioxide  118.00000  156.00000  440.00000  \n",
       "density                 0.99489    0.99699    1.03898  \n",
       "pH                      3.21000    3.32000    4.01000  \n",
       "sulphates               0.51000    0.60000    2.00000  \n",
       "alcohol                10.30000   11.30000   14.90000  \n",
       "quality                 6.00000    6.00000    9.00000  "
      ]
     },
     "execution_count": 7,
     "metadata": {},
     "output_type": "execute_result"
    }
   ],
   "source": [
    "wine_data.describe().T"
   ]
  },
  {
   "cell_type": "code",
   "execution_count": 8,
   "id": "857e7c65",
   "metadata": {},
   "outputs": [
    {
     "data": {
      "text/plain": [
       "type                      2\n",
       "fixed acidity           106\n",
       "volatile acidity        187\n",
       "citric acid              89\n",
       "residual sugar          316\n",
       "chlorides               214\n",
       "free sulfur dioxide     135\n",
       "total sulfur dioxide    276\n",
       "density                 998\n",
       "pH                      108\n",
       "sulphates               111\n",
       "alcohol                 111\n",
       "quality                   7\n",
       "dtype: int64"
      ]
     },
     "execution_count": 8,
     "metadata": {},
     "output_type": "execute_result"
    }
   ],
   "source": [
    "wine_data.nunique()"
   ]
  },
  {
   "cell_type": "code",
   "execution_count": 9,
   "id": "7c8a6637",
   "metadata": {},
   "outputs": [
    {
     "data": {
      "text/plain": [
       "array(['white', 'red'], dtype=object)"
      ]
     },
     "execution_count": 9,
     "metadata": {},
     "output_type": "execute_result"
    }
   ],
   "source": [
    "wine_data['type'].unique()"
   ]
  },
  {
   "cell_type": "code",
   "execution_count": 10,
   "id": "dea05f2a",
   "metadata": {},
   "outputs": [
    {
     "data": {
      "text/plain": [
       "array([6, 5, 7, 8, 4, 3, 9], dtype=int64)"
      ]
     },
     "execution_count": 10,
     "metadata": {},
     "output_type": "execute_result"
    }
   ],
   "source": [
    "wine_data['quality'].unique()"
   ]
  },
  {
   "cell_type": "code",
   "execution_count": 11,
   "id": "1e2d9068",
   "metadata": {},
   "outputs": [
    {
     "data": {
      "text/plain": [
       "6    2836\n",
       "5    2138\n",
       "7    1079\n",
       "4     216\n",
       "8     193\n",
       "3      30\n",
       "9       5\n",
       "Name: quality, dtype: int64"
      ]
     },
     "execution_count": 11,
     "metadata": {},
     "output_type": "execute_result"
    }
   ],
   "source": [
    "wine_data['quality'].value_counts()"
   ]
  },
  {
   "cell_type": "markdown",
   "id": "b3266511",
   "metadata": {},
   "source": [
    "### Data Visualization "
   ]
  },
  {
   "cell_type": "markdown",
   "id": "61a1db62",
   "metadata": {},
   "source": [
    "### Lets check the distribution of Data:"
   ]
  },
  {
   "cell_type": "code",
   "execution_count": 12,
   "id": "48a8c412",
   "metadata": {},
   "outputs": [
    {
     "data": {
      "image/png": "[encoded data removed]",
      "text/plain": [
       "<Figure size 1440x1008 with 12 Axes>"
      ]
     },
     "metadata": {},
     "output_type": "display_data"
    }
   ],
   "source": [
    "sns.set(rc={'axes.facecolor':'grey'})\n",
    "wine_data.hist(bins=20,figsize=(20,14),color='black')\n",
    "plt.show()"
   ]
  },
  {
   "cell_type": "code",
   "execution_count": 13,
   "id": "34e14850",
   "metadata": {},
   "outputs": [
    {
     "data": {
      "image/png": "[encoded data removed]",
      "text/plain": [
       "<Figure size 360x360 with 1 Axes>"
      ]
     },
     "metadata": {},
     "output_type": "display_data"
    }
   ],
   "source": [
    "sns.set(rc={'axes.facecolor':'gold'})\n",
    "plt.figure(figsize=(5,5))\n",
    "sns.countplot(x='type',hue='quality',data=wine_data)\n",
    "plt.show()"
   ]
  },
  {
   "cell_type": "code",
   "execution_count": 14,
   "id": "23273a2c",
   "metadata": {},
   "outputs": [
    {
     "data": {
      "image/png": "[encoded data removed]",
      "text/plain": [
       "<Figure size 360x360 with 1 Axes>"
      ]
     },
     "metadata": {},
     "output_type": "display_data"
    }
   ],
   "source": [
    "sns.set(rc={'axes.facecolor':'black'})\n",
    "plt.figure(figsize=(5,5))\n",
    "sns.countplot(x='quality',data=wine_data)\n",
    "plt.show()"
   ]
  },
  {
   "cell_type": "code",
   "execution_count": 15,
   "id": "9972dec3",
   "metadata": {},
   "outputs": [
    {
     "data": {
      "image/png": "[encoded data removed]",
      "text/plain": [
       "<Figure size 360x360 with 1 Axes>"
      ]
     },
     "metadata": {},
     "output_type": "display_data"
    }
   ],
   "source": [
    "sns.set(rc={'axes.facecolor':'black'})\n",
    "plt.figure(figsize=(5,5))\n",
    "sns.barplot(x='quality',y='pH',data=wine_data,palette='Set2_r')\n",
    "plt.show()"
   ]
  },
  {
   "cell_type": "code",
   "execution_count": 16,
   "id": "ef15c4af",
   "metadata": {},
   "outputs": [
    {
     "data": {
      "image/png": "[encoded data removed]",
      "text/plain": [
       "<Figure size 360x360 with 1 Axes>"
      ]
     },
     "metadata": {},
     "output_type": "display_data"
    }
   ],
   "source": [
    "sns.set(rc={'axes.facecolor':'black'})\n",
    "plt.figure(figsize=(5,5))\n",
    "sns.barplot(x='quality',y='volatile acidity',data=wine_data,palette='gist_earth')\n",
    "plt.show()"
   ]
  },
  {
   "cell_type": "code",
   "execution_count": 17,
   "id": "13bbe0b9",
   "metadata": {},
   "outputs": [
    {
     "data": {
      "image/png": "[encoded data removed]",
      "text/plain": [
       "<Figure size 360x360 with 1 Axes>"
      ]
     },
     "metadata": {},
     "output_type": "display_data"
    }
   ],
   "source": [
    "sns.set(rc={'axes.facecolor':'black'})\n",
    "plt.figure(figsize=(5,5))\n",
    "sns.barplot(x='quality',y='citric acid',data=wine_data,palette='gist_rainbow')\n",
    "plt.show()"
   ]
  },
  {
   "cell_type": "code",
   "execution_count": 18,
   "id": "11926e1c",
   "metadata": {},
   "outputs": [
    {
     "data": {
      "image/png": "[encoded data removed]",
      "text/plain": [
       "<Figure size 360x360 with 1 Axes>"
      ]
     },
     "metadata": {},
     "output_type": "display_data"
    }
   ],
   "source": [
    "sns.set(rc={'axes.facecolor':'black'})\n",
    "plt.figure(figsize=(5,5))\n",
    "sns.barplot(x='quality',y='fixed acidity',data=wine_data,palette='CMRmap_r')\n",
    "plt.show()"
   ]
  },
  {
   "cell_type": "code",
   "execution_count": 19,
   "id": "2da80621",
   "metadata": {},
   "outputs": [
    {
     "data": {
      "image/png": "[encoded data removed]",
      "text/plain": [
       "<Figure size 360x360 with 1 Axes>"
      ]
     },
     "metadata": {},
     "output_type": "display_data"
    }
   ],
   "source": [
    "sns.set(rc={'axes.facecolor':'black'})\n",
    "plt.figure(figsize=(5,5))\n",
    "sns.barplot(x='quality',y='total sulfur dioxide',data=wine_data,palette='gray_r')\n",
    "plt.show()"
   ]
  },
  {
   "cell_type": "code",
   "execution_count": 20,
   "id": "06e43fdc",
   "metadata": {},
   "outputs": [
    {
     "data": {
      "image/png": "[encoded data removed]",
      "text/plain": [
       "<Figure size 360x360 with 1 Axes>"
      ]
     },
     "metadata": {},
     "output_type": "display_data"
    }
   ],
   "source": [
    "sns.set(rc={'axes.facecolor':'black'})\n",
    "plt.figure(figsize=(5,5))\n",
    "sns.barplot(x='quality',y='sulphates',data=wine_data,palette='Dark2')\n",
    "plt.show()"
   ]
  },
  {
   "cell_type": "code",
   "execution_count": 21,
   "id": "279d8672",
   "metadata": {},
   "outputs": [
    {
     "data": {
      "image/png": "[encoded data removed]",
      "text/plain": [
       "<Figure size 360x360 with 1 Axes>"
      ]
     },
     "metadata": {},
     "output_type": "display_data"
    }
   ],
   "source": [
    "sns.set(rc={'axes.facecolor':'black'})\n",
    "plt.figure(figsize=(5,5))\n",
    "sns.barplot(x='quality',y='alcohol',data=wine_data,palette='YlOrBr')\n",
    "plt.show()"
   ]
  },
  {
   "cell_type": "markdown",
   "id": "13822a4e",
   "metadata": {},
   "source": [
    "### Finding the correlation:"
   ]
  },
  {
   "cell_type": "code",
   "execution_count": 22,
   "id": "b71c4761",
   "metadata": {},
   "outputs": [
    {
     "data": {
      "text/html": [
       "<div>\n",
       "<style scoped>\n",
       "    .dataframe tbody tr th:only-of-type {\n",
       "        vertical-align: middle;\n",
       "    }\n",
       "\n",
       "    .dataframe tbody tr th {\n",
       "        vertical-align: top;\n",
       "    }\n",
       "\n",
       "    .dataframe thead th {\n",
       "        text-align: right;\n",
       "    }\n",
       "</style>\n",
       "<table border=\"1\" class=\"dataframe\">\n",
       "  <thead>\n",
       "    <tr style=\"text-align: right;\">\n",
       "      <th></th>\n",
       "      <th>fixed acidity</th>\n",
       "      <th>volatile acidity</th>\n",
       "      <th>citric acid</th>\n",
       "      <th>residual sugar</th>\n",
       "      <th>chlorides</th>\n",
       "      <th>free sulfur dioxide</th>\n",
       "      <th>total sulfur dioxide</th>\n",
       "      <th>density</th>\n",
       "      <th>pH</th>\n",
       "      <th>sulphates</th>\n",
       "      <th>alcohol</th>\n",
       "      <th>quality</th>\n",
       "    </tr>\n",
       "  </thead>\n",
       "  <tbody>\n",
       "    <tr>\n",
       "      <th>fixed acidity</th>\n",
       "      <td>1.000000</td>\n",
       "      <td>0.220172</td>\n",
       "      <td>0.323736</td>\n",
       "      <td>-0.112319</td>\n",
       "      <td>0.298421</td>\n",
       "      <td>-0.283317</td>\n",
       "      <td>-0.329747</td>\n",
       "      <td>0.459204</td>\n",
       "      <td>-0.251814</td>\n",
       "      <td>0.300380</td>\n",
       "      <td>-0.095603</td>\n",
       "      <td>-0.077031</td>\n",
       "    </tr>\n",
       "    <tr>\n",
       "      <th>volatile acidity</th>\n",
       "      <td>0.220172</td>\n",
       "      <td>1.000000</td>\n",
       "      <td>-0.378061</td>\n",
       "      <td>-0.196702</td>\n",
       "      <td>0.377167</td>\n",
       "      <td>-0.353230</td>\n",
       "      <td>-0.414928</td>\n",
       "      <td>0.271193</td>\n",
       "      <td>0.260660</td>\n",
       "      <td>0.225476</td>\n",
       "      <td>-0.038248</td>\n",
       "      <td>-0.265953</td>\n",
       "    </tr>\n",
       "    <tr>\n",
       "      <th>citric acid</th>\n",
       "      <td>0.323736</td>\n",
       "      <td>-0.378061</td>\n",
       "      <td>1.000000</td>\n",
       "      <td>0.142486</td>\n",
       "      <td>0.039315</td>\n",
       "      <td>0.133437</td>\n",
       "      <td>0.195218</td>\n",
       "      <td>0.096320</td>\n",
       "      <td>-0.328689</td>\n",
       "      <td>0.057613</td>\n",
       "      <td>-0.010433</td>\n",
       "      <td>0.085706</td>\n",
       "    </tr>\n",
       "    <tr>\n",
       "      <th>residual sugar</th>\n",
       "      <td>-0.112319</td>\n",
       "      <td>-0.196702</td>\n",
       "      <td>0.142486</td>\n",
       "      <td>1.000000</td>\n",
       "      <td>-0.128902</td>\n",
       "      <td>0.403439</td>\n",
       "      <td>0.495820</td>\n",
       "      <td>0.552498</td>\n",
       "      <td>-0.267050</td>\n",
       "      <td>-0.185745</td>\n",
       "      <td>-0.359706</td>\n",
       "      <td>-0.036825</td>\n",
       "    </tr>\n",
       "    <tr>\n",
       "      <th>chlorides</th>\n",
       "      <td>0.298421</td>\n",
       "      <td>0.377167</td>\n",
       "      <td>0.039315</td>\n",
       "      <td>-0.128902</td>\n",
       "      <td>1.000000</td>\n",
       "      <td>-0.195042</td>\n",
       "      <td>-0.279580</td>\n",
       "      <td>0.362594</td>\n",
       "      <td>0.044806</td>\n",
       "      <td>0.395332</td>\n",
       "      <td>-0.256861</td>\n",
       "      <td>-0.200886</td>\n",
       "    </tr>\n",
       "    <tr>\n",
       "      <th>free sulfur dioxide</th>\n",
       "      <td>-0.283317</td>\n",
       "      <td>-0.353230</td>\n",
       "      <td>0.133437</td>\n",
       "      <td>0.403439</td>\n",
       "      <td>-0.195042</td>\n",
       "      <td>1.000000</td>\n",
       "      <td>0.720934</td>\n",
       "      <td>0.025717</td>\n",
       "      <td>-0.145191</td>\n",
       "      <td>-0.188489</td>\n",
       "      <td>-0.179838</td>\n",
       "      <td>0.055463</td>\n",
       "    </tr>\n",
       "    <tr>\n",
       "      <th>total sulfur dioxide</th>\n",
       "      <td>-0.329747</td>\n",
       "      <td>-0.414928</td>\n",
       "      <td>0.195218</td>\n",
       "      <td>0.495820</td>\n",
       "      <td>-0.279580</td>\n",
       "      <td>0.720934</td>\n",
       "      <td>1.000000</td>\n",
       "      <td>0.032395</td>\n",
       "      <td>-0.237687</td>\n",
       "      <td>-0.275381</td>\n",
       "      <td>-0.265740</td>\n",
       "      <td>-0.041385</td>\n",
       "    </tr>\n",
       "    <tr>\n",
       "      <th>density</th>\n",
       "      <td>0.459204</td>\n",
       "      <td>0.271193</td>\n",
       "      <td>0.096320</td>\n",
       "      <td>0.552498</td>\n",
       "      <td>0.362594</td>\n",
       "      <td>0.025717</td>\n",
       "      <td>0.032395</td>\n",
       "      <td>1.000000</td>\n",
       "      <td>0.011920</td>\n",
       "      <td>0.259454</td>\n",
       "      <td>-0.686745</td>\n",
       "      <td>-0.305858</td>\n",
       "    </tr>\n",
       "    <tr>\n",
       "      <th>pH</th>\n",
       "      <td>-0.251814</td>\n",
       "      <td>0.260660</td>\n",
       "      <td>-0.328689</td>\n",
       "      <td>-0.267050</td>\n",
       "      <td>0.044806</td>\n",
       "      <td>-0.145191</td>\n",
       "      <td>-0.237687</td>\n",
       "      <td>0.011920</td>\n",
       "      <td>1.000000</td>\n",
       "      <td>0.191248</td>\n",
       "      <td>0.121002</td>\n",
       "      <td>0.019366</td>\n",
       "    </tr>\n",
       "    <tr>\n",
       "      <th>sulphates</th>\n",
       "      <td>0.300380</td>\n",
       "      <td>0.225476</td>\n",
       "      <td>0.057613</td>\n",
       "      <td>-0.185745</td>\n",
       "      <td>0.395332</td>\n",
       "      <td>-0.188489</td>\n",
       "      <td>-0.275381</td>\n",
       "      <td>0.259454</td>\n",
       "      <td>0.191248</td>\n",
       "      <td>1.000000</td>\n",
       "      <td>-0.003261</td>\n",
       "      <td>0.038729</td>\n",
       "    </tr>\n",
       "    <tr>\n",
       "      <th>alcohol</th>\n",
       "      <td>-0.095603</td>\n",
       "      <td>-0.038248</td>\n",
       "      <td>-0.010433</td>\n",
       "      <td>-0.359706</td>\n",
       "      <td>-0.256861</td>\n",
       "      <td>-0.179838</td>\n",
       "      <td>-0.265740</td>\n",
       "      <td>-0.686745</td>\n",
       "      <td>0.121002</td>\n",
       "      <td>-0.003261</td>\n",
       "      <td>1.000000</td>\n",
       "      <td>0.444319</td>\n",
       "    </tr>\n",
       "    <tr>\n",
       "      <th>quality</th>\n",
       "      <td>-0.077031</td>\n",
       "      <td>-0.265953</td>\n",
       "      <td>0.085706</td>\n",
       "      <td>-0.036825</td>\n",
       "      <td>-0.200886</td>\n",
       "      <td>0.055463</td>\n",
       "      <td>-0.041385</td>\n",
       "      <td>-0.305858</td>\n",
       "      <td>0.019366</td>\n",
       "      <td>0.038729</td>\n",
       "      <td>0.444319</td>\n",
       "      <td>1.000000</td>\n",
       "    </tr>\n",
       "  </tbody>\n",
       "</table>\n",
       "</div>"
      ],
      "text/plain": [
       "                      fixed acidity  volatile acidity  citric acid  \\\n",
       "fixed acidity              1.000000          0.220172     0.323736   \n",
       "volatile acidity           0.220172          1.000000    -0.378061   \n",
       "citric acid                0.323736         -0.378061     1.000000   \n",
       "residual sugar            -0.112319         -0.196702     0.142486   \n",
       "chlorides                  0.298421          0.377167     0.039315   \n",
       "free sulfur dioxide       -0.283317         -0.353230     0.133437   \n",
       "total sulfur dioxide      -0.329747         -0.414928     0.195218   \n",
       "density                    0.459204          0.271193     0.096320   \n",
       "pH                        -0.251814          0.260660    -0.328689   \n",
       "sulphates                  0.300380          0.225476     0.057613   \n",
       "alcohol                   -0.095603         -0.038248    -0.010433   \n",
       "quality                   -0.077031         -0.265953     0.085706   \n",
       "\n",
       "                      residual sugar  chlorides  free sulfur dioxide  \\\n",
       "fixed acidity              -0.112319   0.298421            -0.283317   \n",
       "volatile acidity           -0.196702   0.377167            -0.353230   \n",
       "citric acid                 0.142486   0.039315             0.133437   \n",
       "residual sugar              1.000000  -0.128902             0.403439   \n",
       "chlorides                  -0.128902   1.000000            -0.195042   \n",
       "free sulfur dioxide         0.403439  -0.195042             1.000000   \n",
       "total sulfur dioxide        0.495820  -0.279580             0.720934   \n",
       "density                     0.552498   0.362594             0.025717   \n",
       "pH                         -0.267050   0.044806            -0.145191   \n",
       "sulphates                  -0.185745   0.395332            -0.188489   \n",
       "alcohol                    -0.359706  -0.256861            -0.179838   \n",
       "quality                    -0.036825  -0.200886             0.055463   \n",
       "\n",
       "                      total sulfur dioxide   density        pH  sulphates  \\\n",
       "fixed acidity                    -0.329747  0.459204 -0.251814   0.300380   \n",
       "volatile acidity                 -0.414928  0.271193  0.260660   0.225476   \n",
       "citric acid                       0.195218  0.096320 -0.328689   0.057613   \n",
       "residual sugar                    0.495820  0.552498 -0.267050  -0.185745   \n",
       "chlorides                        -0.279580  0.362594  0.044806   0.395332   \n",
       "free sulfur dioxide               0.720934  0.025717 -0.145191  -0.188489   \n",
       "total sulfur dioxide              1.000000  0.032395 -0.237687  -0.275381   \n",
       "density                           0.032395  1.000000  0.011920   0.259454   \n",
       "pH                               -0.237687  0.011920  1.000000   0.191248   \n",
       "sulphates                        -0.275381  0.259454  0.191248   1.000000   \n",
       "alcohol                          -0.265740 -0.686745  0.121002  -0.003261   \n",
       "quality                          -0.041385 -0.305858  0.019366   0.038729   \n",
       "\n",
       "                       alcohol   quality  \n",
       "fixed acidity        -0.095603 -0.077031  \n",
       "volatile acidity     -0.038248 -0.265953  \n",
       "citric acid          -0.010433  0.085706  \n",
       "residual sugar       -0.359706 -0.036825  \n",
       "chlorides            -0.256861 -0.200886  \n",
       "free sulfur dioxide  -0.179838  0.055463  \n",
       "total sulfur dioxide -0.265740 -0.041385  \n",
       "density              -0.686745 -0.305858  \n",
       "pH                    0.121002  0.019366  \n",
       "sulphates            -0.003261  0.038729  \n",
       "alcohol               1.000000  0.444319  \n",
       "quality               0.444319  1.000000  "
      ]
     },
     "execution_count": 22,
     "metadata": {},
     "output_type": "execute_result"
    }
   ],
   "source": [
    "wine_data_corr = wine_data.corr()\n",
    "wine_data_corr"
   ]
  },
  {
   "cell_type": "code",
   "execution_count": 23,
   "id": "0264597d",
   "metadata": {},
   "outputs": [
    {
     "data": {
      "image/png": "[encoded data removed]",
      "text/plain": [
       "<Figure size 720x720 with 2 Axes>"
      ]
     },
     "metadata": {},
     "output_type": "display_data"
    }
   ],
   "source": [
    "plt.figure(figsize=(10,10))\n",
    "sns.heatmap(wine_data_corr,annot=True,cbar=True,cmap='Accent')\n",
    "plt.show()"
   ]
  },
  {
   "cell_type": "markdown",
   "id": "37c17856",
   "metadata": {},
   "source": [
    "### Checking Null values"
   ]
  },
  {
   "cell_type": "code",
   "execution_count": 24,
   "id": "31207e93",
   "metadata": {},
   "outputs": [
    {
     "data": {
      "text/plain": [
       "fixed acidity           10\n",
       "pH                       9\n",
       "volatile acidity         8\n",
       "sulphates                4\n",
       "citric acid              3\n",
       "residual sugar           2\n",
       "chlorides                2\n",
       "type                     0\n",
       "free sulfur dioxide      0\n",
       "total sulfur dioxide     0\n",
       "density                  0\n",
       "alcohol                  0\n",
       "quality                  0\n",
       "dtype: int64"
      ]
     },
     "execution_count": 24,
     "metadata": {},
     "output_type": "execute_result"
    }
   ],
   "source": [
    "wine_data.isna().sum().sort_values(ascending=False)"
   ]
  },
  {
   "cell_type": "markdown",
   "id": "ad3af2c3",
   "metadata": {},
   "source": [
    "### Since, this dataset contains very less number of null values so we can drop them"
   ]
  },
  {
   "cell_type": "code",
   "execution_count": 25,
   "id": "c3e4be90",
   "metadata": {},
   "outputs": [],
   "source": [
    "wine_data.dropna(axis=0,inplace=True)"
   ]
  },
  {
   "cell_type": "code",
   "execution_count": 26,
   "id": "f4030365",
   "metadata": {},
   "outputs": [
    {
     "data": {
      "text/plain": [
       "type                    0\n",
       "fixed acidity           0\n",
       "volatile acidity        0\n",
       "citric acid             0\n",
       "residual sugar          0\n",
       "chlorides               0\n",
       "free sulfur dioxide     0\n",
       "total sulfur dioxide    0\n",
       "density                 0\n",
       "pH                      0\n",
       "sulphates               0\n",
       "alcohol                 0\n",
       "quality                 0\n",
       "dtype: int64"
      ]
     },
     "execution_count": 26,
     "metadata": {},
     "output_type": "execute_result"
    }
   ],
   "source": [
    "wine_data.isna().sum()"
   ]
  },
  {
   "cell_type": "markdown",
   "id": "5049dcc4",
   "metadata": {},
   "source": [
    "### Label Encoding :\n",
    "#### Label Encoding refers to converting the labels into a numeric form so as to convert them into the machine-readable form.Machine learning algorithms can then decide in a better way how those labels must be operated.It is an important pre-processing step for the structured dataset in supervised learning.\n"
   ]
  },
  {
   "cell_type": "code",
   "execution_count": 27,
   "id": "15d940dc",
   "metadata": {},
   "outputs": [],
   "source": [
    "wine_data['type'] = LabelEncoder().fit_transform(wine_data['type'])"
   ]
  },
  {
   "cell_type": "markdown",
   "id": "be99380e",
   "metadata": {},
   "source": [
    "### Feature Selection (Using SelectKBest & chi2) and Model Building"
   ]
  },
  {
   "cell_type": "code",
   "execution_count": 28,
   "id": "c9db9c57",
   "metadata": {},
   "outputs": [],
   "source": [
    "X = wine_data.drop(['quality'],axis=1)\n",
    "y = wine_data['quality']"
   ]
  },
  {
   "cell_type": "markdown",
   "id": "3589fe68",
   "metadata": {},
   "source": [
    "### SelectKBest :\n",
    "#### The SelectKBest method selects the features according to the k highest score. By changing the 'score_func' parameter we can apply the method for both classification and regression data. Selecting best features is important process when we prepare a large dataset for training.\n"
   ]
  },
  {
   "cell_type": "code",
   "execution_count": 29,
   "id": "6fb29bd1",
   "metadata": {},
   "outputs": [],
   "source": [
    "kbest = SelectKBest(score_func=chi2,k=10)\n",
    "features = kbest.fit(X,y)"
   ]
  },
  {
   "cell_type": "code",
   "execution_count": 30,
   "id": "d5dba843",
   "metadata": {},
   "outputs": [
    {
     "data": {
      "text/plain": [
       "array([2.88207701e+01, 1.10119432e+01, 4.25649834e+01, 3.63014905e+00,\n",
       "       2.20115243e+02, 6.38601408e+00, 8.91417922e+02, 1.24013979e+03,\n",
       "       6.52829647e-03, 9.50651980e-02, 1.06858035e+00, 2.00627560e+02])"
      ]
     },
     "execution_count": 30,
     "metadata": {},
     "output_type": "execute_result"
    }
   ],
   "source": [
    "features.scores_"
   ]
  },
  {
   "cell_type": "code",
   "execution_count": 31,
   "id": "62dc9c23",
   "metadata": {},
   "outputs": [],
   "source": [
    "scores = pd.DataFrame(features.scores_,columns=['Scores'])\n",
    "col = pd.DataFrame(X.columns,columns=['Features'])"
   ]
  },
  {
   "cell_type": "code",
   "execution_count": 32,
   "id": "cf2018e5",
   "metadata": {},
   "outputs": [],
   "source": [
    "f = pd.concat([col,scores],axis=1)"
   ]
  },
  {
   "cell_type": "code",
   "execution_count": 33,
   "id": "8ca541d5",
   "metadata": {},
   "outputs": [
    {
     "data": {
      "text/html": [
       "<div>\n",
       "<style scoped>\n",
       "    .dataframe tbody tr th:only-of-type {\n",
       "        vertical-align: middle;\n",
       "    }\n",
       "\n",
       "    .dataframe tbody tr th {\n",
       "        vertical-align: top;\n",
       "    }\n",
       "\n",
       "    .dataframe thead th {\n",
       "        text-align: right;\n",
       "    }\n",
       "</style>\n",
       "<table border=\"1\" class=\"dataframe\">\n",
       "  <thead>\n",
       "    <tr style=\"text-align: right;\">\n",
       "      <th></th>\n",
       "      <th>Features</th>\n",
       "      <th>Scores</th>\n",
       "    </tr>\n",
       "  </thead>\n",
       "  <tbody>\n",
       "    <tr>\n",
       "      <th>0</th>\n",
       "      <td>type</td>\n",
       "      <td>28.820770</td>\n",
       "    </tr>\n",
       "    <tr>\n",
       "      <th>1</th>\n",
       "      <td>fixed acidity</td>\n",
       "      <td>11.011943</td>\n",
       "    </tr>\n",
       "    <tr>\n",
       "      <th>2</th>\n",
       "      <td>volatile acidity</td>\n",
       "      <td>42.564983</td>\n",
       "    </tr>\n",
       "    <tr>\n",
       "      <th>3</th>\n",
       "      <td>citric acid</td>\n",
       "      <td>3.630149</td>\n",
       "    </tr>\n",
       "    <tr>\n",
       "      <th>4</th>\n",
       "      <td>residual sugar</td>\n",
       "      <td>220.115243</td>\n",
       "    </tr>\n",
       "    <tr>\n",
       "      <th>5</th>\n",
       "      <td>chlorides</td>\n",
       "      <td>6.386014</td>\n",
       "    </tr>\n",
       "    <tr>\n",
       "      <th>6</th>\n",
       "      <td>free sulfur dioxide</td>\n",
       "      <td>891.417922</td>\n",
       "    </tr>\n",
       "    <tr>\n",
       "      <th>7</th>\n",
       "      <td>total sulfur dioxide</td>\n",
       "      <td>1240.139794</td>\n",
       "    </tr>\n",
       "    <tr>\n",
       "      <th>8</th>\n",
       "      <td>density</td>\n",
       "      <td>0.006528</td>\n",
       "    </tr>\n",
       "    <tr>\n",
       "      <th>9</th>\n",
       "      <td>pH</td>\n",
       "      <td>0.095065</td>\n",
       "    </tr>\n",
       "    <tr>\n",
       "      <th>10</th>\n",
       "      <td>sulphates</td>\n",
       "      <td>1.068580</td>\n",
       "    </tr>\n",
       "    <tr>\n",
       "      <th>11</th>\n",
       "      <td>alcohol</td>\n",
       "      <td>200.627560</td>\n",
       "    </tr>\n",
       "  </tbody>\n",
       "</table>\n",
       "</div>"
      ],
      "text/plain": [
       "                Features       Scores\n",
       "0                   type    28.820770\n",
       "1          fixed acidity    11.011943\n",
       "2       volatile acidity    42.564983\n",
       "3            citric acid     3.630149\n",
       "4         residual sugar   220.115243\n",
       "5              chlorides     6.386014\n",
       "6    free sulfur dioxide   891.417922\n",
       "7   total sulfur dioxide  1240.139794\n",
       "8                density     0.006528\n",
       "9                     pH     0.095065\n",
       "10             sulphates     1.068580\n",
       "11               alcohol   200.627560"
      ]
     },
     "execution_count": 33,
     "metadata": {},
     "output_type": "execute_result"
    }
   ],
   "source": [
    "f"
   ]
  },
  {
   "cell_type": "code",
   "execution_count": 34,
   "id": "ec1a0d73",
   "metadata": {},
   "outputs": [],
   "source": [
    "imp_features = f.nlargest(9,'Scores')"
   ]
  },
  {
   "cell_type": "code",
   "execution_count": 35,
   "id": "96c06f15",
   "metadata": {},
   "outputs": [
    {
     "data": {
      "text/html": [
       "<div>\n",
       "<style scoped>\n",
       "    .dataframe tbody tr th:only-of-type {\n",
       "        vertical-align: middle;\n",
       "    }\n",
       "\n",
       "    .dataframe tbody tr th {\n",
       "        vertical-align: top;\n",
       "    }\n",
       "\n",
       "    .dataframe thead th {\n",
       "        text-align: right;\n",
       "    }\n",
       "</style>\n",
       "<table border=\"1\" class=\"dataframe\">\n",
       "  <thead>\n",
       "    <tr style=\"text-align: right;\">\n",
       "      <th></th>\n",
       "      <th>Features</th>\n",
       "      <th>Scores</th>\n",
       "    </tr>\n",
       "  </thead>\n",
       "  <tbody>\n",
       "    <tr>\n",
       "      <th>7</th>\n",
       "      <td>total sulfur dioxide</td>\n",
       "      <td>1240.139794</td>\n",
       "    </tr>\n",
       "    <tr>\n",
       "      <th>6</th>\n",
       "      <td>free sulfur dioxide</td>\n",
       "      <td>891.417922</td>\n",
       "    </tr>\n",
       "    <tr>\n",
       "      <th>4</th>\n",
       "      <td>residual sugar</td>\n",
       "      <td>220.115243</td>\n",
       "    </tr>\n",
       "    <tr>\n",
       "      <th>11</th>\n",
       "      <td>alcohol</td>\n",
       "      <td>200.627560</td>\n",
       "    </tr>\n",
       "    <tr>\n",
       "      <th>2</th>\n",
       "      <td>volatile acidity</td>\n",
       "      <td>42.564983</td>\n",
       "    </tr>\n",
       "    <tr>\n",
       "      <th>0</th>\n",
       "      <td>type</td>\n",
       "      <td>28.820770</td>\n",
       "    </tr>\n",
       "    <tr>\n",
       "      <th>1</th>\n",
       "      <td>fixed acidity</td>\n",
       "      <td>11.011943</td>\n",
       "    </tr>\n",
       "    <tr>\n",
       "      <th>5</th>\n",
       "      <td>chlorides</td>\n",
       "      <td>6.386014</td>\n",
       "    </tr>\n",
       "    <tr>\n",
       "      <th>3</th>\n",
       "      <td>citric acid</td>\n",
       "      <td>3.630149</td>\n",
       "    </tr>\n",
       "  </tbody>\n",
       "</table>\n",
       "</div>"
      ],
      "text/plain": [
       "                Features       Scores\n",
       "7   total sulfur dioxide  1240.139794\n",
       "6    free sulfur dioxide   891.417922\n",
       "4         residual sugar   220.115243\n",
       "11               alcohol   200.627560\n",
       "2       volatile acidity    42.564983\n",
       "0                   type    28.820770\n",
       "1          fixed acidity    11.011943\n",
       "5              chlorides     6.386014\n",
       "3            citric acid     3.630149"
      ]
     },
     "execution_count": 35,
     "metadata": {},
     "output_type": "execute_result"
    }
   ],
   "source": [
    "imp_features"
   ]
  },
  {
   "cell_type": "markdown",
   "id": "e3074aaf",
   "metadata": {},
   "source": [
    "### Important features are:\n",
    "### 'total sulfur dioxide', 'free sulfur dioxide', 'residual sugar',alcohol', 'volatile acidity', 'type', 'fixed acidity','chlorides','citric acid'"
   ]
  },
  {
   "cell_type": "code",
   "execution_count": 36,
   "id": "e82b17ad",
   "metadata": {},
   "outputs": [],
   "source": [
    "wine = []\n",
    "for col in imp_features.Features:\n",
    "    wine.append(col)"
   ]
  },
  {
   "cell_type": "code",
   "execution_count": 37,
   "id": "083c511c",
   "metadata": {},
   "outputs": [],
   "source": [
    "wine = wine_data[wine]"
   ]
  },
  {
   "cell_type": "code",
   "execution_count": 38,
   "id": "529f6ab7",
   "metadata": {},
   "outputs": [
    {
     "data": {
      "text/html": [
       "<div>\n",
       "<style scoped>\n",
       "    .dataframe tbody tr th:only-of-type {\n",
       "        vertical-align: middle;\n",
       "    }\n",
       "\n",
       "    .dataframe tbody tr th {\n",
       "        vertical-align: top;\n",
       "    }\n",
       "\n",
       "    .dataframe thead th {\n",
       "        text-align: right;\n",
       "    }\n",
       "</style>\n",
       "<table border=\"1\" class=\"dataframe\">\n",
       "  <thead>\n",
       "    <tr style=\"text-align: right;\">\n",
       "      <th></th>\n",
       "      <th>total sulfur dioxide</th>\n",
       "      <th>free sulfur dioxide</th>\n",
       "      <th>residual sugar</th>\n",
       "      <th>alcohol</th>\n",
       "      <th>volatile acidity</th>\n",
       "      <th>type</th>\n",
       "      <th>fixed acidity</th>\n",
       "      <th>chlorides</th>\n",
       "      <th>citric acid</th>\n",
       "    </tr>\n",
       "  </thead>\n",
       "  <tbody>\n",
       "    <tr>\n",
       "      <th>0</th>\n",
       "      <td>170.0</td>\n",
       "      <td>45.0</td>\n",
       "      <td>20.7</td>\n",
       "      <td>8.8</td>\n",
       "      <td>0.270</td>\n",
       "      <td>1</td>\n",
       "      <td>7.0</td>\n",
       "      <td>0.045</td>\n",
       "      <td>0.36</td>\n",
       "    </tr>\n",
       "    <tr>\n",
       "      <th>1</th>\n",
       "      <td>132.0</td>\n",
       "      <td>14.0</td>\n",
       "      <td>1.6</td>\n",
       "      <td>9.5</td>\n",
       "      <td>0.300</td>\n",
       "      <td>1</td>\n",
       "      <td>6.3</td>\n",
       "      <td>0.049</td>\n",
       "      <td>0.34</td>\n",
       "    </tr>\n",
       "    <tr>\n",
       "      <th>2</th>\n",
       "      <td>97.0</td>\n",
       "      <td>30.0</td>\n",
       "      <td>6.9</td>\n",
       "      <td>10.1</td>\n",
       "      <td>0.280</td>\n",
       "      <td>1</td>\n",
       "      <td>8.1</td>\n",
       "      <td>0.050</td>\n",
       "      <td>0.40</td>\n",
       "    </tr>\n",
       "    <tr>\n",
       "      <th>3</th>\n",
       "      <td>186.0</td>\n",
       "      <td>47.0</td>\n",
       "      <td>8.5</td>\n",
       "      <td>9.9</td>\n",
       "      <td>0.230</td>\n",
       "      <td>1</td>\n",
       "      <td>7.2</td>\n",
       "      <td>0.058</td>\n",
       "      <td>0.32</td>\n",
       "    </tr>\n",
       "    <tr>\n",
       "      <th>4</th>\n",
       "      <td>186.0</td>\n",
       "      <td>47.0</td>\n",
       "      <td>8.5</td>\n",
       "      <td>9.9</td>\n",
       "      <td>0.230</td>\n",
       "      <td>1</td>\n",
       "      <td>7.2</td>\n",
       "      <td>0.058</td>\n",
       "      <td>0.32</td>\n",
       "    </tr>\n",
       "    <tr>\n",
       "      <th>...</th>\n",
       "      <td>...</td>\n",
       "      <td>...</td>\n",
       "      <td>...</td>\n",
       "      <td>...</td>\n",
       "      <td>...</td>\n",
       "      <td>...</td>\n",
       "      <td>...</td>\n",
       "      <td>...</td>\n",
       "      <td>...</td>\n",
       "    </tr>\n",
       "    <tr>\n",
       "      <th>6491</th>\n",
       "      <td>38.0</td>\n",
       "      <td>28.0</td>\n",
       "      <td>1.9</td>\n",
       "      <td>9.5</td>\n",
       "      <td>0.620</td>\n",
       "      <td>0</td>\n",
       "      <td>6.8</td>\n",
       "      <td>0.068</td>\n",
       "      <td>0.08</td>\n",
       "    </tr>\n",
       "    <tr>\n",
       "      <th>6492</th>\n",
       "      <td>44.0</td>\n",
       "      <td>32.0</td>\n",
       "      <td>2.0</td>\n",
       "      <td>10.5</td>\n",
       "      <td>0.600</td>\n",
       "      <td>0</td>\n",
       "      <td>6.2</td>\n",
       "      <td>0.090</td>\n",
       "      <td>0.08</td>\n",
       "    </tr>\n",
       "    <tr>\n",
       "      <th>6494</th>\n",
       "      <td>40.0</td>\n",
       "      <td>29.0</td>\n",
       "      <td>2.3</td>\n",
       "      <td>11.0</td>\n",
       "      <td>0.510</td>\n",
       "      <td>0</td>\n",
       "      <td>6.3</td>\n",
       "      <td>0.076</td>\n",
       "      <td>0.13</td>\n",
       "    </tr>\n",
       "    <tr>\n",
       "      <th>6495</th>\n",
       "      <td>44.0</td>\n",
       "      <td>32.0</td>\n",
       "      <td>2.0</td>\n",
       "      <td>10.2</td>\n",
       "      <td>0.645</td>\n",
       "      <td>0</td>\n",
       "      <td>5.9</td>\n",
       "      <td>0.075</td>\n",
       "      <td>0.12</td>\n",
       "    </tr>\n",
       "    <tr>\n",
       "      <th>6496</th>\n",
       "      <td>42.0</td>\n",
       "      <td>18.0</td>\n",
       "      <td>3.6</td>\n",
       "      <td>11.0</td>\n",
       "      <td>0.310</td>\n",
       "      <td>0</td>\n",
       "      <td>6.0</td>\n",
       "      <td>0.067</td>\n",
       "      <td>0.47</td>\n",
       "    </tr>\n",
       "  </tbody>\n",
       "</table>\n",
       "<p>6463 rows × 9 columns</p>\n",
       "</div>"
      ],
      "text/plain": [
       "      total sulfur dioxide  free sulfur dioxide  residual sugar  alcohol  \\\n",
       "0                    170.0                 45.0            20.7      8.8   \n",
       "1                    132.0                 14.0             1.6      9.5   \n",
       "2                     97.0                 30.0             6.9     10.1   \n",
       "3                    186.0                 47.0             8.5      9.9   \n",
       "4                    186.0                 47.0             8.5      9.9   \n",
       "...                    ...                  ...             ...      ...   \n",
       "6491                  38.0                 28.0             1.9      9.5   \n",
       "6492                  44.0                 32.0             2.0     10.5   \n",
       "6494                  40.0                 29.0             2.3     11.0   \n",
       "6495                  44.0                 32.0             2.0     10.2   \n",
       "6496                  42.0                 18.0             3.6     11.0   \n",
       "\n",
       "      volatile acidity  type  fixed acidity  chlorides  citric acid  \n",
       "0                0.270     1            7.0      0.045         0.36  \n",
       "1                0.300     1            6.3      0.049         0.34  \n",
       "2                0.280     1            8.1      0.050         0.40  \n",
       "3                0.230     1            7.2      0.058         0.32  \n",
       "4                0.230     1            7.2      0.058         0.32  \n",
       "...                ...   ...            ...        ...          ...  \n",
       "6491             0.620     0            6.8      0.068         0.08  \n",
       "6492             0.600     0            6.2      0.090         0.08  \n",
       "6494             0.510     0            6.3      0.076         0.13  \n",
       "6495             0.645     0            5.9      0.075         0.12  \n",
       "6496             0.310     0            6.0      0.067         0.47  \n",
       "\n",
       "[6463 rows x 9 columns]"
      ]
     },
     "execution_count": 38,
     "metadata": {},
     "output_type": "execute_result"
    }
   ],
   "source": [
    "wine"
   ]
  },
  {
   "cell_type": "markdown",
   "id": "8817dfc4",
   "metadata": {},
   "source": [
    "### If the quality is greater than or equal to 6 then the quality is good, otherwise bad.\n",
    "### Here 1 means Good Quality\n",
    "### 0 means Bad Quality\n"
   ]
  },
  {
   "cell_type": "code",
   "execution_count": 39,
   "id": "57322657",
   "metadata": {},
   "outputs": [],
   "source": [
    "y = y.apply(lambda i: 1 if i>=6 else 0)"
   ]
  },
  {
   "cell_type": "markdown",
   "id": "da17daa4",
   "metadata": {},
   "source": [
    "### Feature Scaling\n",
    "### Normalizing the data\n",
    "\n",
    "### why do we need Feature Scaling? \n",
    "#### 1.we need this technique for learning models that rely on metrics(like KNN). \n",
    "#### 2.different features scale cause different ratio in updating the values. we can compare features. increase the performance. Remember that: we have to scale the unseen data in the feauture. harder or different interpretability of feature coeff.\n",
    "\n",
    "### Two techniques of scaling: \n",
    "#### Standardization: rescale data to have mean=0 and standard_deviation=1 \n",
    "#### Normalization: all data values to be between 0-1.\n",
    "\n",
    "### Note: we do not use scaling on labels\n"
   ]
  },
  {
   "cell_type": "code",
   "execution_count": 40,
   "id": "96d12d6a",
   "metadata": {},
   "outputs": [],
   "source": [
    "scaling = MinMaxScaler()"
   ]
  },
  {
   "cell_type": "code",
   "execution_count": 41,
   "id": "aa3a4d87",
   "metadata": {},
   "outputs": [],
   "source": [
    "wine = scaling.fit_transform(wine)"
   ]
  },
  {
   "cell_type": "code",
   "execution_count": 42,
   "id": "9236bd51",
   "metadata": {},
   "outputs": [],
   "source": [
    "wine = pd.DataFrame(wine)"
   ]
  },
  {
   "cell_type": "code",
   "execution_count": 43,
   "id": "8ce147da",
   "metadata": {},
   "outputs": [
    {
     "data": {
      "text/plain": [
       "(6463, 9)"
      ]
     },
     "execution_count": 43,
     "metadata": {},
     "output_type": "execute_result"
    }
   ],
   "source": [
    "wine.shape"
   ]
  },
  {
   "cell_type": "code",
   "execution_count": 44,
   "id": "94615dee",
   "metadata": {},
   "outputs": [
    {
     "data": {
      "text/html": [
       "<div>\n",
       "<style scoped>\n",
       "    .dataframe tbody tr th:only-of-type {\n",
       "        vertical-align: middle;\n",
       "    }\n",
       "\n",
       "    .dataframe tbody tr th {\n",
       "        vertical-align: top;\n",
       "    }\n",
       "\n",
       "    .dataframe thead th {\n",
       "        text-align: right;\n",
       "    }\n",
       "</style>\n",
       "<table border=\"1\" class=\"dataframe\">\n",
       "  <thead>\n",
       "    <tr style=\"text-align: right;\">\n",
       "      <th></th>\n",
       "      <th>0</th>\n",
       "      <th>1</th>\n",
       "      <th>2</th>\n",
       "      <th>3</th>\n",
       "      <th>4</th>\n",
       "      <th>5</th>\n",
       "      <th>6</th>\n",
       "      <th>7</th>\n",
       "      <th>8</th>\n",
       "    </tr>\n",
       "  </thead>\n",
       "  <tbody>\n",
       "    <tr>\n",
       "      <th>0</th>\n",
       "      <td>0.377880</td>\n",
       "      <td>0.152778</td>\n",
       "      <td>0.308282</td>\n",
       "      <td>0.115942</td>\n",
       "      <td>0.126667</td>\n",
       "      <td>1.0</td>\n",
       "      <td>0.264463</td>\n",
       "      <td>0.059801</td>\n",
       "      <td>0.216867</td>\n",
       "    </tr>\n",
       "    <tr>\n",
       "      <th>1</th>\n",
       "      <td>0.290323</td>\n",
       "      <td>0.045139</td>\n",
       "      <td>0.015337</td>\n",
       "      <td>0.217391</td>\n",
       "      <td>0.146667</td>\n",
       "      <td>1.0</td>\n",
       "      <td>0.206612</td>\n",
       "      <td>0.066445</td>\n",
       "      <td>0.204819</td>\n",
       "    </tr>\n",
       "    <tr>\n",
       "      <th>2</th>\n",
       "      <td>0.209677</td>\n",
       "      <td>0.100694</td>\n",
       "      <td>0.096626</td>\n",
       "      <td>0.304348</td>\n",
       "      <td>0.133333</td>\n",
       "      <td>1.0</td>\n",
       "      <td>0.355372</td>\n",
       "      <td>0.068106</td>\n",
       "      <td>0.240964</td>\n",
       "    </tr>\n",
       "    <tr>\n",
       "      <th>3</th>\n",
       "      <td>0.414747</td>\n",
       "      <td>0.159722</td>\n",
       "      <td>0.121166</td>\n",
       "      <td>0.275362</td>\n",
       "      <td>0.100000</td>\n",
       "      <td>1.0</td>\n",
       "      <td>0.280992</td>\n",
       "      <td>0.081395</td>\n",
       "      <td>0.192771</td>\n",
       "    </tr>\n",
       "    <tr>\n",
       "      <th>4</th>\n",
       "      <td>0.414747</td>\n",
       "      <td>0.159722</td>\n",
       "      <td>0.121166</td>\n",
       "      <td>0.275362</td>\n",
       "      <td>0.100000</td>\n",
       "      <td>1.0</td>\n",
       "      <td>0.280992</td>\n",
       "      <td>0.081395</td>\n",
       "      <td>0.192771</td>\n",
       "    </tr>\n",
       "  </tbody>\n",
       "</table>\n",
       "</div>"
      ],
      "text/plain": [
       "          0         1         2         3         4    5         6         7  \\\n",
       "0  0.377880  0.152778  0.308282  0.115942  0.126667  1.0  0.264463  0.059801   \n",
       "1  0.290323  0.045139  0.015337  0.217391  0.146667  1.0  0.206612  0.066445   \n",
       "2  0.209677  0.100694  0.096626  0.304348  0.133333  1.0  0.355372  0.068106   \n",
       "3  0.414747  0.159722  0.121166  0.275362  0.100000  1.0  0.280992  0.081395   \n",
       "4  0.414747  0.159722  0.121166  0.275362  0.100000  1.0  0.280992  0.081395   \n",
       "\n",
       "          8  \n",
       "0  0.216867  \n",
       "1  0.204819  \n",
       "2  0.240964  \n",
       "3  0.192771  \n",
       "4  0.192771  "
      ]
     },
     "execution_count": 44,
     "metadata": {},
     "output_type": "execute_result"
    }
   ],
   "source": [
    "wine.head()"
   ]
  },
  {
   "cell_type": "markdown",
   "id": "5391c067",
   "metadata": {},
   "source": [
    "### Splitting the Data"
   ]
  },
  {
   "cell_type": "code",
   "execution_count": 45,
   "id": "dd9e26ab",
   "metadata": {},
   "outputs": [],
   "source": [
    "X_train,X_test,y_train,y_test=train_test_split(wine,y,test_size=.20,random_state=0)"
   ]
  },
  {
   "cell_type": "code",
   "execution_count": 46,
   "id": "020d4eb9",
   "metadata": {},
   "outputs": [
    {
     "data": {
      "text/plain": [
       "((5170, 9), (5170,))"
      ]
     },
     "execution_count": 46,
     "metadata": {},
     "output_type": "execute_result"
    }
   ],
   "source": [
    "X_train.shape,y_train.shape"
   ]
  },
  {
   "cell_type": "code",
   "execution_count": 47,
   "id": "354ba198",
   "metadata": {},
   "outputs": [
    {
     "data": {
      "text/plain": [
       "((1293, 9), (1293,))"
      ]
     },
     "execution_count": 47,
     "metadata": {},
     "output_type": "execute_result"
    }
   ],
   "source": [
    "X_test.shape,y_test.shape"
   ]
  },
  {
   "cell_type": "code",
   "execution_count": 48,
   "id": "7e95fcd9",
   "metadata": {},
   "outputs": [
    {
     "data": {
      "text/plain": [
       "False"
      ]
     },
     "execution_count": 48,
     "metadata": {},
     "output_type": "execute_result"
    }
   ],
   "source": [
    "np.isnan(wine.sum().any())# Checking if is there are any null values or not"
   ]
  },
  {
   "cell_type": "code",
   "execution_count": 49,
   "id": "f50d0cc6",
   "metadata": {},
   "outputs": [
    {
     "data": {
      "text/plain": [
       "True"
      ]
     },
     "execution_count": 49,
     "metadata": {},
     "output_type": "execute_result"
    }
   ],
   "source": [
    "np.isfinite(wine.sum().all())# Checking if it is finite or not"
   ]
  },
  {
   "cell_type": "markdown",
   "id": "a7358358",
   "metadata": {},
   "source": [
    "### Logistic Regression"
   ]
  },
  {
   "cell_type": "markdown",
   "id": "d84e48e4",
   "metadata": {},
   "source": [
    "### Model Training"
   ]
  },
  {
   "cell_type": "code",
   "execution_count": 50,
   "id": "5d78ee70",
   "metadata": {},
   "outputs": [],
   "source": [
    "lr=LogisticRegression(max_iter=1000)"
   ]
  },
  {
   "cell_type": "code",
   "execution_count": 51,
   "id": "431a0eff",
   "metadata": {},
   "outputs": [],
   "source": [
    "lrmodel = lr.fit(X_train,y_train)"
   ]
  },
  {
   "cell_type": "markdown",
   "id": "f9b6a990",
   "metadata": {},
   "source": [
    "### Model Testing & Model Evaluation\n",
    "---\n",
    "### Training Data"
   ]
  },
  {
   "cell_type": "code",
   "execution_count": 52,
   "id": "3676a5db",
   "metadata": {},
   "outputs": [
    {
     "data": {
      "text/plain": [
       "array([0, 1, 1, ..., 1, 1, 1], dtype=int64)"
      ]
     },
     "execution_count": 52,
     "metadata": {},
     "output_type": "execute_result"
    }
   ],
   "source": [
    "y_pred_train_lr = lrmodel.predict(X_train)\n",
    "y_pred_train_lr"
   ]
  },
  {
   "cell_type": "code",
   "execution_count": 53,
   "id": "0239cf05",
   "metadata": {},
   "outputs": [
    {
     "name": "stdout",
     "output_type": "stream",
     "text": [
      "Accuracy Score           : 0.74\n",
      "---------------------------\n",
      "Confusion Matrix         :\n",
      " [[1085  825]\n",
      " [ 497 2763]]\n",
      "---------------------------\n",
      "Classification Report    :\n",
      "               precision    recall  f1-score   support\n",
      "\n",
      "           0       0.69      0.57      0.62      1910\n",
      "           1       0.77      0.85      0.81      3260\n",
      "\n",
      "    accuracy                           0.74      5170\n",
      "   macro avg       0.73      0.71      0.71      5170\n",
      "weighted avg       0.74      0.74      0.74      5170\n",
      "\n"
     ]
    }
   ],
   "source": [
    "print('Accuracy Score           :', round(accuracy_score(y_train , y_pred_train_lr),2))\n",
    "print('---------------------------')\n",
    "print('Confusion Matrix         :\\n', confusion_matrix(y_train , y_pred_train_lr))\n",
    "print('---------------------------')\n",
    "print('Classification Report    :\\n',classification_report(y_train , y_pred_train_lr))"
   ]
  },
  {
   "cell_type": "markdown",
   "id": "b57a6fcc",
   "metadata": {},
   "source": [
    "### Testing Data"
   ]
  },
  {
   "cell_type": "code",
   "execution_count": 54,
   "id": "b3106c12",
   "metadata": {},
   "outputs": [
    {
     "data": {
      "text/plain": [
       "array([0, 1, 1, ..., 0, 1, 1], dtype=int64)"
      ]
     },
     "execution_count": 54,
     "metadata": {},
     "output_type": "execute_result"
    }
   ],
   "source": [
    "y_pred_test_lr = lrmodel.predict(X_test)\n",
    "y_pred_test_lr"
   ]
  },
  {
   "cell_type": "code",
   "execution_count": 55,
   "id": "32b1a1c9",
   "metadata": {},
   "outputs": [
    {
     "name": "stdout",
     "output_type": "stream",
     "text": [
      "Accuracy Score: 0.75\n",
      "---------------------------\n",
      "Confusion Matrix:\n",
      " [[263 199]\n",
      " [129 702]]\n",
      "---------------------------\n",
      "Classification Report:\n",
      "               precision    recall  f1-score   support\n",
      "\n",
      "           0       0.67      0.57      0.62       462\n",
      "           1       0.78      0.84      0.81       831\n",
      "\n",
      "    accuracy                           0.75      1293\n",
      "   macro avg       0.73      0.71      0.71      1293\n",
      "weighted avg       0.74      0.75      0.74      1293\n",
      "\n"
     ]
    }
   ],
   "source": [
    "print('Accuracy Score:', round(accuracy_score(y_test , y_pred_test_lr),2))\n",
    "print('---------------------------')\n",
    "print('Confusion Matrix:\\n', confusion_matrix(y_test , y_pred_test_lr))\n",
    "print('---------------------------')\n",
    "print('Classification Report:\\n',classification_report(y_test , y_pred_test_lr))"
   ]
  },
  {
   "cell_type": "markdown",
   "id": "16504a7b",
   "metadata": {},
   "source": [
    "### Random Forest Classifier\n",
    "\n",
    "### Model Training"
   ]
  },
  {
   "cell_type": "code",
   "execution_count": 56,
   "id": "bd447ef7",
   "metadata": {},
   "outputs": [],
   "source": [
    "rf=RandomForestClassifier()"
   ]
  },
  {
   "cell_type": "code",
   "execution_count": 57,
   "id": "6cd5f473",
   "metadata": {},
   "outputs": [],
   "source": [
    "rfmodel=rf.fit(X_train,y_train)"
   ]
  },
  {
   "cell_type": "markdown",
   "id": "13f9a5ee",
   "metadata": {},
   "source": [
    "### Model Testing & Model Evaluation\n",
    "---\n",
    "### Training Data"
   ]
  },
  {
   "cell_type": "code",
   "execution_count": 58,
   "id": "685e5287",
   "metadata": {},
   "outputs": [
    {
     "data": {
      "text/plain": [
       "array([0, 1, 1, ..., 1, 1, 1], dtype=int64)"
      ]
     },
     "execution_count": 58,
     "metadata": {},
     "output_type": "execute_result"
    }
   ],
   "source": [
    "y_pred_train_rf = rfmodel.predict(X_train)\n",
    "y_pred_train_rf"
   ]
  },
  {
   "cell_type": "code",
   "execution_count": 59,
   "id": "cb6bd41c",
   "metadata": {},
   "outputs": [
    {
     "name": "stdout",
     "output_type": "stream",
     "text": [
      "Accuracy Score           : 1.0\n",
      "---------------------------\n",
      "Confusion Matrix         :\n",
      " [[1910    0]\n",
      " [   0 3260]]\n",
      "---------------------------\n",
      "Classification Report    :\n",
      "               precision    recall  f1-score   support\n",
      "\n",
      "           0       1.00      1.00      1.00      1910\n",
      "           1       1.00      1.00      1.00      3260\n",
      "\n",
      "    accuracy                           1.00      5170\n",
      "   macro avg       1.00      1.00      1.00      5170\n",
      "weighted avg       1.00      1.00      1.00      5170\n",
      "\n"
     ]
    }
   ],
   "source": [
    "print('Accuracy Score           :', round(accuracy_score(y_train , y_pred_train_rf),2))\n",
    "print('---------------------------')\n",
    "print('Confusion Matrix         :\\n', confusion_matrix(y_train , y_pred_train_rf))\n",
    "print('---------------------------')\n",
    "print('Classification Report    :\\n',classification_report(y_train , y_pred_train_rf))"
   ]
  },
  {
   "cell_type": "markdown",
   "id": "5572bdd0",
   "metadata": {},
   "source": [
    "### Testing Data"
   ]
  },
  {
   "cell_type": "code",
   "execution_count": 60,
   "id": "c69a3140",
   "metadata": {},
   "outputs": [
    {
     "data": {
      "text/plain": [
       "array([0, 1, 1, ..., 0, 1, 1], dtype=int64)"
      ]
     },
     "execution_count": 60,
     "metadata": {},
     "output_type": "execute_result"
    }
   ],
   "source": [
    "y_pred_test_rf = rfmodel.predict(X_test)\n",
    "y_pred_test_rf"
   ]
  },
  {
   "cell_type": "code",
   "execution_count": 61,
   "id": "be261720",
   "metadata": {},
   "outputs": [
    {
     "name": "stdout",
     "output_type": "stream",
     "text": [
      "Accuracy Score: 0.83\n",
      "---------------------------\n",
      "Confusion Matrix:\n",
      " [[353 109]\n",
      " [106 725]]\n",
      "---------------------------\n",
      "Classification Report:\n",
      "               precision    recall  f1-score   support\n",
      "\n",
      "           0       0.77      0.76      0.77       462\n",
      "           1       0.87      0.87      0.87       831\n",
      "\n",
      "    accuracy                           0.83      1293\n",
      "   macro avg       0.82      0.82      0.82      1293\n",
      "weighted avg       0.83      0.83      0.83      1293\n",
      "\n"
     ]
    }
   ],
   "source": [
    "print('Accuracy Score:', round(accuracy_score(y_test , y_pred_test_rf),2))\n",
    "print('---------------------------')\n",
    "print('Confusion Matrix:\\n', confusion_matrix(y_test , y_pred_test_rf))\n",
    "print('---------------------------')\n",
    "print('Classification Report:\\n',classification_report(y_test , y_pred_test_rf))"
   ]
  },
  {
   "cell_type": "markdown",
   "id": "81a21dbe",
   "metadata": {},
   "source": [
    "### DecisionTreeClassifier"
   ]
  },
  {
   "cell_type": "markdown",
   "id": "72d3c730",
   "metadata": {},
   "source": [
    "\n",
    "### Model Training"
   ]
  },
  {
   "cell_type": "code",
   "execution_count": 62,
   "id": "a870f74e",
   "metadata": {},
   "outputs": [],
   "source": [
    "dt = DecisionTreeClassifier(criterion='gini',max_depth=10)"
   ]
  },
  {
   "cell_type": "code",
   "execution_count": 63,
   "id": "1e6b76b0",
   "metadata": {},
   "outputs": [],
   "source": [
    "dtmodel=dt.fit(X_train,y_train)"
   ]
  },
  {
   "cell_type": "markdown",
   "id": "7e080025",
   "metadata": {},
   "source": [
    "### Model Testing & Model Evaluation\n",
    "---\n",
    "### Training Data"
   ]
  },
  {
   "cell_type": "code",
   "execution_count": 64,
   "id": "0a0447d0",
   "metadata": {},
   "outputs": [
    {
     "data": {
      "text/plain": [
       "array([0, 1, 1, ..., 1, 1, 1], dtype=int64)"
      ]
     },
     "execution_count": 64,
     "metadata": {},
     "output_type": "execute_result"
    }
   ],
   "source": [
    "y_pred_train_dt = dtmodel.predict(X_train)\n",
    "y_pred_train_dt"
   ]
  },
  {
   "cell_type": "code",
   "execution_count": 65,
   "id": "dcc266e1",
   "metadata": {},
   "outputs": [
    {
     "name": "stdout",
     "output_type": "stream",
     "text": [
      "Accuracy Score           : 0.87\n",
      "---------------------------\n",
      "Confusion Matrix         :\n",
      " [[1587  323]\n",
      " [ 366 2894]]\n",
      "---------------------------\n",
      "Classification Report    :\n",
      "               precision    recall  f1-score   support\n",
      "\n",
      "           0       0.81      0.83      0.82      1910\n",
      "           1       0.90      0.89      0.89      3260\n",
      "\n",
      "    accuracy                           0.87      5170\n",
      "   macro avg       0.86      0.86      0.86      5170\n",
      "weighted avg       0.87      0.87      0.87      5170\n",
      "\n"
     ]
    }
   ],
   "source": [
    "print('Accuracy Score           :', round(accuracy_score(y_train , y_pred_train_dt),2))\n",
    "print('---------------------------')\n",
    "print('Confusion Matrix         :\\n', confusion_matrix(y_train , y_pred_train_dt))\n",
    "print('---------------------------')\n",
    "print('Classification Report    :\\n',classification_report(y_train , y_pred_train_dt))"
   ]
  },
  {
   "cell_type": "markdown",
   "id": "0eeb35aa",
   "metadata": {},
   "source": [
    "### Testing Data"
   ]
  },
  {
   "cell_type": "code",
   "execution_count": 66,
   "id": "2f962406",
   "metadata": {},
   "outputs": [
    {
     "data": {
      "text/plain": [
       "array([0, 1, 1, ..., 0, 1, 1], dtype=int64)"
      ]
     },
     "execution_count": 66,
     "metadata": {},
     "output_type": "execute_result"
    }
   ],
   "source": [
    "y_pred_test_dt = dtmodel.predict(X_test)\n",
    "y_pred_test_dt"
   ]
  },
  {
   "cell_type": "code",
   "execution_count": 67,
   "id": "d1ca8e6d",
   "metadata": {},
   "outputs": [
    {
     "name": "stdout",
     "output_type": "stream",
     "text": [
      "Accuracy Score: 0.77\n",
      "---------------------------\n",
      "Confusion Matrix:\n",
      " [[331 131]\n",
      " [169 662]]\n",
      "---------------------------\n",
      "Classification Report:\n",
      "               precision    recall  f1-score   support\n",
      "\n",
      "           0       0.66      0.72      0.69       462\n",
      "           1       0.83      0.80      0.82       831\n",
      "\n",
      "    accuracy                           0.77      1293\n",
      "   macro avg       0.75      0.76      0.75      1293\n",
      "weighted avg       0.77      0.77      0.77      1293\n",
      "\n"
     ]
    }
   ],
   "source": [
    "print('Accuracy Score:', round(accuracy_score(y_test , y_pred_test_dt),2))\n",
    "print('---------------------------')\n",
    "print('Confusion Matrix:\\n', confusion_matrix(y_test , y_pred_test_dt))\n",
    "print('---------------------------')\n",
    "print('Classification Report:\\n',classification_report(y_test , y_pred_test_dt))"
   ]
  },
  {
   "cell_type": "code",
   "execution_count": 68,
   "id": "4a2c14b8",
   "metadata": {},
   "outputs": [
    {
     "data": {
      "image/png": "[encoded data removed]",
      "text/plain": [
       "<Figure size 864x576 with 1 Axes>"
      ]
     },
     "metadata": {},
     "output_type": "display_data"
    }
   ],
   "source": [
    "plt.figure(figsize=(12,8))\n",
    "plot_tree(decision_tree = dtmodel , filled = True, rounded = True)\n",
    "plt.show()"
   ]
  },
  {
   "cell_type": "markdown",
   "id": "b4befd66",
   "metadata": {},
   "source": [
    "### XGBoost(XGBClassifier)\n",
    "### Model Training"
   ]
  },
  {
   "cell_type": "code",
   "execution_count": 69,
   "id": "9623cdf1",
   "metadata": {},
   "outputs": [],
   "source": [
    "xgb=XGBClassifier(n_estimators=300,max_depth=4)"
   ]
  },
  {
   "cell_type": "code",
   "execution_count": 70,
   "id": "a085b255",
   "metadata": {},
   "outputs": [
    {
     "name": "stdout",
     "output_type": "stream",
     "text": [
      "[22:46:53] WARNING: C:/Users/Administrator/workspace/xgboost-win64_release_1.4.0/src/learner.cc:1095: Starting in XGBoost 1.3.0, the default evaluation metric used with the objective 'binary:logistic' was changed from 'error' to 'logloss'. Explicitly set eval_metric if you'd like to restore the old behavior.\n"
     ]
    }
   ],
   "source": [
    "xgbmodel=xgb.fit(X_train,y_train)"
   ]
  },
  {
   "cell_type": "markdown",
   "id": "6c82bc9e",
   "metadata": {},
   "source": [
    "### Model Testing & Model Evaluation\n",
    "---\n",
    "### Training Data"
   ]
  },
  {
   "cell_type": "code",
   "execution_count": 71,
   "id": "e8ae6ec3",
   "metadata": {},
   "outputs": [
    {
     "data": {
      "text/plain": [
       "array([0, 1, 1, ..., 1, 1, 1], dtype=int64)"
      ]
     },
     "execution_count": 71,
     "metadata": {},
     "output_type": "execute_result"
    }
   ],
   "source": [
    "y_pred_train_xgb = xgbmodel.predict(X_train)\n",
    "y_pred_train_xgb"
   ]
  },
  {
   "cell_type": "code",
   "execution_count": 72,
   "id": "88c18347",
   "metadata": {},
   "outputs": [
    {
     "name": "stdout",
     "output_type": "stream",
     "text": [
      "Accuracy Score           : 0.97\n",
      "---------------------------\n",
      "Confusion Matrix         :\n",
      " [[1786  124]\n",
      " [  53 3207]]\n",
      "---------------------------\n",
      "Classification Report    :\n",
      "               precision    recall  f1-score   support\n",
      "\n",
      "           0       0.97      0.94      0.95      1910\n",
      "           1       0.96      0.98      0.97      3260\n",
      "\n",
      "    accuracy                           0.97      5170\n",
      "   macro avg       0.97      0.96      0.96      5170\n",
      "weighted avg       0.97      0.97      0.97      5170\n",
      "\n"
     ]
    }
   ],
   "source": [
    "print('Accuracy Score           :', round(accuracy_score(y_train , y_pred_train_xgb),2))\n",
    "print('---------------------------')\n",
    "print('Confusion Matrix         :\\n', confusion_matrix(y_train , y_pred_train_xgb))\n",
    "print('---------------------------')\n",
    "print('Classification Report    :\\n',classification_report(y_train , y_pred_train_xgb))"
   ]
  },
  {
   "cell_type": "markdown",
   "id": "1f4996a3",
   "metadata": {},
   "source": [
    "### Testing Data"
   ]
  },
  {
   "cell_type": "code",
   "execution_count": 73,
   "id": "ac4c2f6a",
   "metadata": {},
   "outputs": [
    {
     "data": {
      "text/plain": [
       "array([0, 1, 1, ..., 0, 1, 1], dtype=int64)"
      ]
     },
     "execution_count": 73,
     "metadata": {},
     "output_type": "execute_result"
    }
   ],
   "source": [
    "y_pred_test_xgb = xgbmodel.predict(X_test)\n",
    "y_pred_test_xgb"
   ]
  },
  {
   "cell_type": "code",
   "execution_count": 74,
   "id": "30c54fcc",
   "metadata": {
    "scrolled": true
   },
   "outputs": [
    {
     "name": "stdout",
     "output_type": "stream",
     "text": [
      "Accuracy Score: 0.81\n",
      "---------------------------\n",
      "Confusion Matrix:\n",
      " [[335 127]\n",
      " [120 711]]\n",
      "---------------------------\n",
      "Classification Report:\n",
      "               precision    recall  f1-score   support\n",
      "\n",
      "           0       0.74      0.73      0.73       462\n",
      "           1       0.85      0.86      0.85       831\n",
      "\n",
      "    accuracy                           0.81      1293\n",
      "   macro avg       0.79      0.79      0.79      1293\n",
      "weighted avg       0.81      0.81      0.81      1293\n",
      "\n"
     ]
    }
   ],
   "source": [
    "print('Accuracy Score:', round(accuracy_score(y_test , y_pred_test_xgb),2))\n",
    "print('---------------------------')\n",
    "print('Confusion Matrix:\\n', confusion_matrix(y_test , y_pred_test_xgb))\n",
    "print('---------------------------')\n",
    "print('Classification Report:\\n',classification_report(y_test , y_pred_test_xgb))"
   ]
  },
  {
   "cell_type": "markdown",
   "id": "9d2bd20d",
   "metadata": {},
   "source": [
    "### Gradient Boosting Classifier"
   ]
  },
  {
   "cell_type": "markdown",
   "id": "2681fe19",
   "metadata": {},
   "source": [
    "\n",
    "### Model Training"
   ]
  },
  {
   "cell_type": "code",
   "execution_count": 75,
   "id": "7d54fa6a",
   "metadata": {},
   "outputs": [],
   "source": [
    "gbm=GradientBoostingClassifier(n_estimators=700,max_depth=4,learning_rate=0.09)"
   ]
  },
  {
   "cell_type": "code",
   "execution_count": 76,
   "id": "3d227175",
   "metadata": {},
   "outputs": [],
   "source": [
    "gbmmodel=gbm.fit(X_train,y_train)"
   ]
  },
  {
   "cell_type": "markdown",
   "id": "8c4328df",
   "metadata": {},
   "source": [
    "### Model Testing & Model Evaluation\n",
    "---\n",
    "### Training Data"
   ]
  },
  {
   "cell_type": "code",
   "execution_count": 77,
   "id": "5faaca49",
   "metadata": {},
   "outputs": [
    {
     "data": {
      "text/plain": [
       "array([0, 1, 1, ..., 1, 1, 1], dtype=int64)"
      ]
     },
     "execution_count": 77,
     "metadata": {},
     "output_type": "execute_result"
    }
   ],
   "source": [
    "y_pred_train_gbm = gbmmodel.predict(X_train)\n",
    "y_pred_train_gbm"
   ]
  },
  {
   "cell_type": "code",
   "execution_count": 78,
   "id": "ac4c4c9e",
   "metadata": {},
   "outputs": [
    {
     "name": "stdout",
     "output_type": "stream",
     "text": [
      "Accuracy Score           : 0.96\n",
      "---------------------------\n",
      "Confusion Matrix         :\n",
      " [[1766  144]\n",
      " [  47 3213]]\n",
      "---------------------------\n",
      "Classification Report    :\n",
      "               precision    recall  f1-score   support\n",
      "\n",
      "           0       0.97      0.92      0.95      1910\n",
      "           1       0.96      0.99      0.97      3260\n",
      "\n",
      "    accuracy                           0.96      5170\n",
      "   macro avg       0.97      0.96      0.96      5170\n",
      "weighted avg       0.96      0.96      0.96      5170\n",
      "\n"
     ]
    }
   ],
   "source": [
    "print('Accuracy Score           :', round(accuracy_score(y_train , y_pred_train_gbm),2))\n",
    "print('---------------------------')\n",
    "print('Confusion Matrix         :\\n', confusion_matrix(y_train , y_pred_train_gbm))\n",
    "print('---------------------------')\n",
    "print('Classification Report    :\\n',classification_report(y_train , y_pred_train_gbm))"
   ]
  },
  {
   "cell_type": "markdown",
   "id": "eb93e266",
   "metadata": {},
   "source": [
    "### Testing Data"
   ]
  },
  {
   "cell_type": "code",
   "execution_count": 79,
   "id": "63ad011c",
   "metadata": {},
   "outputs": [
    {
     "data": {
      "text/plain": [
       "array([0, 1, 1, ..., 0, 1, 1], dtype=int64)"
      ]
     },
     "execution_count": 79,
     "metadata": {},
     "output_type": "execute_result"
    }
   ],
   "source": [
    "y_pred_test_gbm = gbmmodel.predict(X_test)\n",
    "y_pred_test_gbm"
   ]
  },
  {
   "cell_type": "code",
   "execution_count": 80,
   "id": "25bf9816",
   "metadata": {},
   "outputs": [
    {
     "name": "stdout",
     "output_type": "stream",
     "text": [
      "Accuracy Score: 0.81\n",
      "---------------------------\n",
      "Confusion Matrix:\n",
      " [[339 123]\n",
      " [118 713]]\n",
      "---------------------------\n",
      "Classification Report:\n",
      "               precision    recall  f1-score   support\n",
      "\n",
      "           0       0.74      0.73      0.74       462\n",
      "           1       0.85      0.86      0.86       831\n",
      "\n",
      "    accuracy                           0.81      1293\n",
      "   macro avg       0.80      0.80      0.80      1293\n",
      "weighted avg       0.81      0.81      0.81      1293\n",
      "\n"
     ]
    }
   ],
   "source": [
    "print('Accuracy Score:', round(accuracy_score(y_test , y_pred_test_gbm),2))\n",
    "print('---------------------------')\n",
    "print('Confusion Matrix:\\n', confusion_matrix(y_test , y_pred_test_gbm))\n",
    "print('---------------------------')\n",
    "print('Classification Report:\\n',classification_report(y_test , y_pred_test_gbm))"
   ]
  },
  {
   "cell_type": "markdown",
   "id": "6e85f5e3",
   "metadata": {},
   "source": [
    "### From above models, Random Forest Classifier gives the best accuracy, so we will find Hyper Parameter Tuning for Random Forest Classifier model using RandomizedSearchCV"
   ]
  },
  {
   "cell_type": "code",
   "execution_count": 81,
   "id": "f51c7d52",
   "metadata": {},
   "outputs": [],
   "source": [
    "from pprint import pprint as pp"
   ]
  },
  {
   "cell_type": "code",
   "execution_count": 82,
   "id": "7402d383",
   "metadata": {
    "scrolled": true
   },
   "outputs": [
    {
     "name": "stdout",
     "output_type": "stream",
     "text": [
      "{'bootstrap': [True, False],\n",
      " 'max_depth': [10, 20, 30, 40, 50, 60, 70, 80, 90, 100, 110, None],\n",
      " 'max_features': ['auto', 'sqrt'],\n",
      " 'min_samples_leaf': [1, 2, 4],\n",
      " 'min_samples_split': [2, 5, 10],\n",
      " 'n_estimators': [200, 400, 600, 800, 1000, 1200, 1400, 1600, 1800, 2000]}\n"
     ]
    }
   ],
   "source": [
    "# Number of trees in random forest\n",
    "n_estimators = [int(x) for x in np.linspace(start = 200, stop = 2000, num = 10)]\n",
    "# Number of features to consider at every split\n",
    "max_features = ['auto', 'sqrt']\n",
    "# Maximum number of levels in tree\n",
    "max_depth = [int(x) for x in np.linspace(10, 110, num = 11)]\n",
    "max_depth.append(None)\n",
    "# Minimum number of samples required to split a node\n",
    "min_samples_split = [2, 5, 10]\n",
    "# Minimum number of samples required at each leaf node\n",
    "min_samples_leaf = [1, 2, 4]\n",
    "# Method of selecting samples for training each tree\n",
    "bootstrap = [True, False]\n",
    "# Create the random grid\n",
    "random_grid = {'n_estimators': n_estimators,\n",
    "               'max_features': max_features,\n",
    "               'max_depth': max_depth,\n",
    "               'min_samples_split': min_samples_split,\n",
    "               'min_samples_leaf': min_samples_leaf,\n",
    "               'bootstrap': bootstrap}\n",
    "pp(random_grid)"
   ]
  },
  {
   "cell_type": "code",
   "execution_count": 83,
   "id": "673a6f3b",
   "metadata": {},
   "outputs": [],
   "source": [
    "# %%time\n",
    "# Use the random grid to search for best hyperparameters\n",
    "# First create the base model to tune\n",
    "# Random search of parameters, using 3 fold cross validation, \n",
    "# search across 100 different combinations, and use all available cores\n",
    "#rf_random = RandomizedSearchCV(estimator = rf, param_distributions = random_grid, n_iter = 100, cv = 3, verbose=2, random_state=12121, n_jobs = -1)\n",
    "# Fit the random search model\n",
    "#rf_random.fit(X_train, y_train)"
   ]
  },
  {
   "cell_type": "code",
   "execution_count": 84,
   "id": "6b334836",
   "metadata": {},
   "outputs": [],
   "source": [
    "#rf_random.best_params_"
   ]
  },
  {
   "cell_type": "markdown",
   "id": "554fe8aa",
   "metadata": {},
   "source": [
    "### Model Training"
   ]
  },
  {
   "cell_type": "code",
   "execution_count": 85,
   "id": "d0270cad",
   "metadata": {},
   "outputs": [],
   "source": [
    "rf_tune=RandomForestClassifier(n_estimators=1000,\n",
    " min_samples_split= 2,\n",
    " min_samples_leaf= 1,\n",
    " max_features= 'sqrt',\n",
    " max_depth= 20,\n",
    " bootstrap= True)"
   ]
  },
  {
   "cell_type": "code",
   "execution_count": 86,
   "id": "08bc266e",
   "metadata": {},
   "outputs": [],
   "source": [
    "rf_tunemodel=rf_tune.fit(X_train,y_train)"
   ]
  },
  {
   "cell_type": "markdown",
   "id": "255b11f2",
   "metadata": {},
   "source": [
    "### Model Testing & Model Evaluation\n",
    "---\n",
    "### Training Data"
   ]
  },
  {
   "cell_type": "code",
   "execution_count": 87,
   "id": "8d3ac637",
   "metadata": {},
   "outputs": [
    {
     "data": {
      "text/plain": [
       "array([0, 1, 1, ..., 1, 1, 1], dtype=int64)"
      ]
     },
     "execution_count": 87,
     "metadata": {},
     "output_type": "execute_result"
    }
   ],
   "source": [
    "y_pred_train_rftune = rf_tunemodel.predict(X_train)\n",
    "y_pred_train_rftune"
   ]
  },
  {
   "cell_type": "code",
   "execution_count": 88,
   "id": "6c26c6d9",
   "metadata": {},
   "outputs": [
    {
     "name": "stdout",
     "output_type": "stream",
     "text": [
      "Accuracy Score           : 1.0\n",
      "---------------------------\n",
      "Confusion Matrix         :\n",
      " [[1910    0]\n",
      " [   0 3260]]\n",
      "---------------------------\n",
      "Classification Report    :\n",
      "               precision    recall  f1-score   support\n",
      "\n",
      "           0       1.00      1.00      1.00      1910\n",
      "           1       1.00      1.00      1.00      3260\n",
      "\n",
      "    accuracy                           1.00      5170\n",
      "   macro avg       1.00      1.00      1.00      5170\n",
      "weighted avg       1.00      1.00      1.00      5170\n",
      "\n"
     ]
    }
   ],
   "source": [
    "print('Accuracy Score           :', round(accuracy_score(y_train , y_pred_train_rftune),2))\n",
    "print('---------------------------')\n",
    "print('Confusion Matrix         :\\n', confusion_matrix(y_train , y_pred_train_rftune))\n",
    "print('---------------------------')\n",
    "print('Classification Report    :\\n',classification_report(y_train , y_pred_train_rftune))"
   ]
  },
  {
   "cell_type": "markdown",
   "id": "190416ee",
   "metadata": {},
   "source": [
    "### Testing Data"
   ]
  },
  {
   "cell_type": "code",
   "execution_count": 89,
   "id": "8b27f350",
   "metadata": {},
   "outputs": [
    {
     "data": {
      "text/plain": [
       "array([0, 1, 1, ..., 0, 1, 1], dtype=int64)"
      ]
     },
     "execution_count": 89,
     "metadata": {},
     "output_type": "execute_result"
    }
   ],
   "source": [
    "y_pred_test_rftune = rf_tunemodel.predict(X_test)\n",
    "y_pred_test_rftune"
   ]
  },
  {
   "cell_type": "code",
   "execution_count": 90,
   "id": "9f5d182b",
   "metadata": {},
   "outputs": [
    {
     "name": "stdout",
     "output_type": "stream",
     "text": [
      "Accuracy Score: 0.83\n",
      "---------------------------\n",
      "Confusion Matrix:\n",
      " [[348 114]\n",
      " [104 727]]\n",
      "---------------------------\n",
      "Classification Report:\n",
      "               precision    recall  f1-score   support\n",
      "\n",
      "           0       0.77      0.75      0.76       462\n",
      "           1       0.86      0.87      0.87       831\n",
      "\n",
      "    accuracy                           0.83      1293\n",
      "   macro avg       0.82      0.81      0.82      1293\n",
      "weighted avg       0.83      0.83      0.83      1293\n",
      "\n"
     ]
    }
   ],
   "source": [
    "print('Accuracy Score:', round(accuracy_score(y_test , y_pred_test_rftune),2))\n",
    "print('---------------------------')\n",
    "print('Confusion Matrix:\\n', confusion_matrix(y_test , y_pred_test_rftune))\n",
    "print('---------------------------')\n",
    "print('Classification Report:\\n',classification_report(y_test , y_pred_test_rftune))"
   ]
  },
  {
   "cell_type": "markdown",
   "id": "02f49d1d",
   "metadata": {},
   "source": [
    "### Model Comparison : "
   ]
  },
  {
   "cell_type": "code",
   "execution_count": 91,
   "id": "29c203ab",
   "metadata": {},
   "outputs": [],
   "source": [
    "models = [['Logistic Regression',(round(accuracy_score(y_train , y_pred_train_lr),2)),\n",
    "          (round(accuracy_score(y_test , y_pred_test_lr),2))],\n",
    "         ['Random Forest',(round(accuracy_score(y_train , y_pred_train_rftune),2)),\n",
    "         (round(accuracy_score(y_test , y_pred_test_rftune),2))],\n",
    "         ['Decision Tree',(round(accuracy_score(y_train , y_pred_train_dt),2)),\n",
    "         (round(accuracy_score(y_test , y_pred_test_dt),2))],\n",
    "         ['Gradient Boosting',(round(accuracy_score(y_train , y_pred_train_gbm),2)),\n",
    "         (round(accuracy_score(y_test , y_pred_test_gbm),2))],\n",
    "         ['XGBoost',(round(accuracy_score(y_train , y_pred_train_xgb),2)),\n",
    "         (round(accuracy_score(y_test , y_pred_test_xgb),2))]]"
   ]
  },
  {
   "cell_type": "code",
   "execution_count": 92,
   "id": "94b4ee45",
   "metadata": {},
   "outputs": [],
   "source": [
    "Model_Comparision = pd.DataFrame(models,columns= ['Model Name', 'Accuracy(train)','Accuracy(test)'])"
   ]
  },
  {
   "cell_type": "code",
   "execution_count": 93,
   "id": "c3ea9f82",
   "metadata": {},
   "outputs": [
    {
     "data": {
      "text/html": [
       "<div>\n",
       "<style scoped>\n",
       "    .dataframe tbody tr th:only-of-type {\n",
       "        vertical-align: middle;\n",
       "    }\n",
       "\n",
       "    .dataframe tbody tr th {\n",
       "        vertical-align: top;\n",
       "    }\n",
       "\n",
       "    .dataframe thead th {\n",
       "        text-align: right;\n",
       "    }\n",
       "</style>\n",
       "<table border=\"1\" class=\"dataframe\">\n",
       "  <thead>\n",
       "    <tr style=\"text-align: right;\">\n",
       "      <th></th>\n",
       "      <th>Model Name</th>\n",
       "      <th>Accuracy(train)</th>\n",
       "      <th>Accuracy(test)</th>\n",
       "    </tr>\n",
       "  </thead>\n",
       "  <tbody>\n",
       "    <tr>\n",
       "      <th>0</th>\n",
       "      <td>Logistic Regression</td>\n",
       "      <td>0.74</td>\n",
       "      <td>0.75</td>\n",
       "    </tr>\n",
       "    <tr>\n",
       "      <th>1</th>\n",
       "      <td>Random Forest</td>\n",
       "      <td>1.00</td>\n",
       "      <td>0.83</td>\n",
       "    </tr>\n",
       "    <tr>\n",
       "      <th>2</th>\n",
       "      <td>Decision Tree</td>\n",
       "      <td>0.87</td>\n",
       "      <td>0.77</td>\n",
       "    </tr>\n",
       "    <tr>\n",
       "      <th>3</th>\n",
       "      <td>Gradient Boosting</td>\n",
       "      <td>0.96</td>\n",
       "      <td>0.81</td>\n",
       "    </tr>\n",
       "    <tr>\n",
       "      <th>4</th>\n",
       "      <td>XGBoost</td>\n",
       "      <td>0.97</td>\n",
       "      <td>0.81</td>\n",
       "    </tr>\n",
       "  </tbody>\n",
       "</table>\n",
       "</div>"
      ],
      "text/plain": [
       "            Model Name  Accuracy(train)  Accuracy(test)\n",
       "0  Logistic Regression             0.74            0.75\n",
       "1        Random Forest             1.00            0.83\n",
       "2        Decision Tree             0.87            0.77\n",
       "3    Gradient Boosting             0.96            0.81\n",
       "4              XGBoost             0.97            0.81"
      ]
     },
     "execution_count": 93,
     "metadata": {},
     "output_type": "execute_result"
    }
   ],
   "source": [
    "Model_Comparision"
   ]
  },
  {
   "cell_type": "markdown",
   "id": "a17e631a",
   "metadata": {},
   "source": [
    "### Conclusion: So, according to the analysis we can see that RandomForestClassifier gives best result. Hence, RandomForestClassifier is the best fit model."
   ]
  },
  {
   "cell_type": "code",
   "execution_count": 94,
   "id": "d2164ea7",
   "metadata": {},
   "outputs": [],
   "source": [
    "wine_quality = pd.DataFrame({'Actual':y_test, 'Predicted':y_pred_test_rftune})"
   ]
  },
  {
   "cell_type": "code",
   "execution_count": 95,
   "id": "a27f20b7",
   "metadata": {},
   "outputs": [
    {
     "data": {
      "text/html": [
       "<div>\n",
       "<style scoped>\n",
       "    .dataframe tbody tr th:only-of-type {\n",
       "        vertical-align: middle;\n",
       "    }\n",
       "\n",
       "    .dataframe tbody tr th {\n",
       "        vertical-align: top;\n",
       "    }\n",
       "\n",
       "    .dataframe thead th {\n",
       "        text-align: right;\n",
       "    }\n",
       "</style>\n",
       "<table border=\"1\" class=\"dataframe\">\n",
       "  <thead>\n",
       "    <tr style=\"text-align: right;\">\n",
       "      <th></th>\n",
       "      <th>Actual</th>\n",
       "      <th>Predicted</th>\n",
       "    </tr>\n",
       "  </thead>\n",
       "  <tbody>\n",
       "    <tr>\n",
       "      <th>3859</th>\n",
       "      <td>0</td>\n",
       "      <td>0</td>\n",
       "    </tr>\n",
       "    <tr>\n",
       "      <th>4675</th>\n",
       "      <td>1</td>\n",
       "      <td>1</td>\n",
       "    </tr>\n",
       "    <tr>\n",
       "      <th>513</th>\n",
       "      <td>1</td>\n",
       "      <td>1</td>\n",
       "    </tr>\n",
       "    <tr>\n",
       "      <th>5490</th>\n",
       "      <td>0</td>\n",
       "      <td>0</td>\n",
       "    </tr>\n",
       "    <tr>\n",
       "      <th>4329</th>\n",
       "      <td>0</td>\n",
       "      <td>0</td>\n",
       "    </tr>\n",
       "    <tr>\n",
       "      <th>...</th>\n",
       "      <td>...</td>\n",
       "      <td>...</td>\n",
       "    </tr>\n",
       "    <tr>\n",
       "      <th>410</th>\n",
       "      <td>1</td>\n",
       "      <td>1</td>\n",
       "    </tr>\n",
       "    <tr>\n",
       "      <th>4562</th>\n",
       "      <td>1</td>\n",
       "      <td>1</td>\n",
       "    </tr>\n",
       "    <tr>\n",
       "      <th>5626</th>\n",
       "      <td>0</td>\n",
       "      <td>0</td>\n",
       "    </tr>\n",
       "    <tr>\n",
       "      <th>1248</th>\n",
       "      <td>1</td>\n",
       "      <td>1</td>\n",
       "    </tr>\n",
       "    <tr>\n",
       "      <th>985</th>\n",
       "      <td>1</td>\n",
       "      <td>1</td>\n",
       "    </tr>\n",
       "  </tbody>\n",
       "</table>\n",
       "<p>1293 rows × 2 columns</p>\n",
       "</div>"
      ],
      "text/plain": [
       "      Actual  Predicted\n",
       "3859       0          0\n",
       "4675       1          1\n",
       "513        1          1\n",
       "5490       0          0\n",
       "4329       0          0\n",
       "...      ...        ...\n",
       "410        1          1\n",
       "4562       1          1\n",
       "5626       0          0\n",
       "1248       1          1\n",
       "985        1          1\n",
       "\n",
       "[1293 rows x 2 columns]"
      ]
     },
     "execution_count": 95,
     "metadata": {},
     "output_type": "execute_result"
    }
   ],
   "source": [
    "wine_quality"
   ]
  }
 ],
 "metadata": {
  "kernelspec": {
   "display_name": "Python 3",
   "language": "python",
   "name": "python3"
  },
  "language_info": {
   "codemirror_mode": {
    "name": "ipython",
    "version": 3
   },
   "file_extension": ".py",
   "mimetype": "text/x-python",
   "name": "python",
   "nbconvert_exporter": "python",
   "pygments_lexer": "ipython3",
   "version": "3.8.8"
  }
 },
 "nbformat": 4,
 "nbformat_minor": 5
}
