{
 "cells": [
  {
   "cell_type": "code",
   "execution_count": 1,
   "id": "1d68ef1b",
   "metadata": {
    "executionInfo": {
     "elapsed": 1492,
     "status": "ok",
     "timestamp": 1627225083769,
     "user": {
      "displayName": "Sai Theja K",
      "photoUrl": "https://lh3.googleusercontent.com/a-/AOh14GjDUwEOP_UzgBuDC0KwY5k4YzTfrqv23NVJZwOIvQ=s64",
      "userId": "10425201218241699038"
     },
     "user_tz": -330
    },
    "id": "1d68ef1b"
   },
   "outputs": [],
   "source": [
    "import pandas as pd\n",
    "import numpy as np\n",
    "import sklearn as sk"
   ]
  },
  {
   "cell_type": "code",
   "execution_count": null,
   "id": "c297a63f",
   "metadata": {
    "id": "c297a63f"
   },
   "outputs": [],
   "source": [
    "df=pd.read_csv('data.csv')\n",
    "df"
   ]
  },
  {
   "cell_type": "code",
   "execution_count": null,
   "id": "15664c6d",
   "metadata": {
    "id": "15664c6d",
    "outputId": "e69076fb-22b8-44c6-ec65-5ec00914eea9"
   },
   "outputs": [
    {
     "data": {
      "text/plain": [
       "origin                 0\n",
       "cylinders              0\n",
       "displacement           0\n",
       "horsepower             0\n",
       "weight                 0\n",
       "acceleration           0\n",
       "year                   0\n",
       "name                   0\n",
       "Kilometer_per_liter    0\n",
       "dtype: int64"
      ]
     },
     "execution_count": 3,
     "metadata": {
      "tags": []
     },
     "output_type": "execute_result"
    }
   ],
   "source": [
    "df.isna().sum()"
   ]
  },
  {
   "cell_type": "code",
   "execution_count": null,
   "id": "b64a1b36",
   "metadata": {
    "id": "b64a1b36"
   },
   "outputs": [],
   "source": [
    "df1=df.drop(['name'],axis=1)"
   ]
  },
  {
   "cell_type": "code",
   "execution_count": null,
   "id": "90b74a81",
   "metadata": {
    "id": "90b74a81"
   },
   "outputs": [],
   "source": [
    "x=df1.drop(['Kilometer_per_liter'],axis=1)\n",
    "y=df1[['Kilometer_per_liter']]"
   ]
  },
  {
   "cell_type": "code",
   "execution_count": null,
   "id": "6956d68c",
   "metadata": {
    "id": "6956d68c"
   },
   "outputs": [],
   "source": [
    "from sklearn.model_selection import train_test_split\n",
    "x_train,x_test,y_train,y_test=train_test_split(x,y,test_size=0.1,random_state=121212)"
   ]
  },
  {
   "cell_type": "code",
   "execution_count": null,
   "id": "f7623c3a",
   "metadata": {
    "id": "f7623c3a",
    "outputId": "e196f5e9-c520-4189-f550-3ce3080c389d"
   },
   "outputs": [
    {
     "data": {
      "text/plain": [
       "((358, 7), (40, 7), (358, 1), (40, 1))"
      ]
     },
     "execution_count": 7,
     "metadata": {
      "tags": []
     },
     "output_type": "execute_result"
    }
   ],
   "source": [
    "x_train.shape, x_test.shape, y_train.shape, y_test.shape"
   ]
  },
  {
   "cell_type": "code",
   "execution_count": null,
   "id": "92e29b77",
   "metadata": {
    "id": "92e29b77"
   },
   "outputs": [],
   "source": [
    "df2= x_train.select_dtypes(np.number)"
   ]
  },
  {
   "cell_type": "code",
   "execution_count": null,
   "id": "432e7e90",
   "metadata": {
    "id": "432e7e90"
   },
   "outputs": [],
   "source": [
    "from sklearn.preprocessing import StandardScaler\n",
    "ss = StandardScaler()"
   ]
  },
  {
   "cell_type": "code",
   "execution_count": null,
   "id": "36aff552",
   "metadata": {
    "id": "36aff552",
    "outputId": "a1dc096d-ac8a-4554-9246-3e6d47552929"
   },
   "outputs": [
    {
     "data": {
      "text/plain": [
       "StandardScaler()"
      ]
     },
     "execution_count": 10,
     "metadata": {
      "tags": []
     },
     "output_type": "execute_result"
    }
   ],
   "source": [
    "ss.fit(df2)"
   ]
  },
  {
   "cell_type": "code",
   "execution_count": null,
   "id": "f57e0f3f",
   "metadata": {
    "id": "f57e0f3f"
   },
   "outputs": [],
   "source": [
    "temp = ss.transform(df2)\n",
    "final= pd.DataFrame(temp,columns=df2.columns)"
   ]
  },
  {
   "cell_type": "code",
   "execution_count": null,
   "id": "cd130136",
   "metadata": {
    "id": "cd130136"
   },
   "outputs": [],
   "source": [
    "from sklearn.linear_model import LinearRegression, SGDRegressor\n",
    "lr = LinearRegression()\n",
    "sgdR = SGDRegressor()"
   ]
  },
  {
   "cell_type": "code",
   "execution_count": null,
   "id": "3373e631",
   "metadata": {
    "id": "3373e631",
    "outputId": "429048a6-cf15-4ed4-91ff-3a149579b79f"
   },
   "outputs": [
    {
     "data": {
      "text/plain": [
       "LinearRegression()"
      ]
     },
     "execution_count": 13,
     "metadata": {
      "tags": []
     },
     "output_type": "execute_result"
    }
   ],
   "source": [
    "lr.fit(final.to_numpy(), y_train.to_numpy())"
   ]
  },
  {
   "cell_type": "code",
   "execution_count": null,
   "id": "fef78fcf",
   "metadata": {
    "id": "fef78fcf",
    "outputId": "5a2adb3b-9557-4221-f8a3-8653f28a2b15"
   },
   "outputs": [
    {
     "name": "stderr",
     "output_type": "stream",
     "text": [
      "C:\\Users\\mrawe\\anaconda3\\envs\\TEST\\lib\\site-packages\\sklearn\\utils\\validation.py:63: DataConversionWarning: A column-vector y was passed when a 1d array was expected. Please change the shape of y to (n_samples, ), for example using ravel().\n",
      "  return f(*args, **kwargs)\n"
     ]
    },
    {
     "data": {
      "text/plain": [
       "SGDRegressor()"
      ]
     },
     "execution_count": 14,
     "metadata": {
      "tags": []
     },
     "output_type": "execute_result"
    }
   ],
   "source": [
    "sgdR.fit(final.to_numpy(), y_train.to_numpy())"
   ]
  },
  {
   "cell_type": "code",
   "execution_count": null,
   "id": "e29b230c",
   "metadata": {
    "id": "e29b230c"
   },
   "outputs": [],
   "source": [
    "from sklearn.linear_model import Lasso,Ridge,ElasticNet\n",
    "lasso=Lasso(alpha=0.5)\n",
    "ridge=Ridge(alpha=0.5)\n",
    "eNet=ElasticNet(l1_ratio=0.3)"
   ]
  },
  {
   "cell_type": "code",
   "execution_count": null,
   "id": "95d3f2d1",
   "metadata": {
    "id": "95d3f2d1",
    "outputId": "82084ca6-9c06-4cce-abf1-2d52462754ee"
   },
   "outputs": [
    {
     "data": {
      "text/plain": [
       "Lasso(alpha=0.5)"
      ]
     },
     "execution_count": 16,
     "metadata": {
      "tags": []
     },
     "output_type": "execute_result"
    }
   ],
   "source": [
    "lasso.fit(final.to_numpy(),y_train.to_numpy())"
   ]
  },
  {
   "cell_type": "code",
   "execution_count": null,
   "id": "84372aac",
   "metadata": {
    "id": "84372aac",
    "outputId": "6c0d6f27-8ab8-4899-c94b-fcb7dd6ef380"
   },
   "outputs": [
    {
     "data": {
      "text/plain": [
       "Ridge(alpha=0.5)"
      ]
     },
     "execution_count": 17,
     "metadata": {
      "tags": []
     },
     "output_type": "execute_result"
    }
   ],
   "source": [
    "ridge.fit(final.to_numpy(),y_train.to_numpy())"
   ]
  },
  {
   "cell_type": "code",
   "execution_count": null,
   "id": "7cb72f61",
   "metadata": {
    "id": "7cb72f61",
    "outputId": "51300226-4e52-439c-efef-dc78921c922a"
   },
   "outputs": [
    {
     "data": {
      "text/plain": [
       "ElasticNet(l1_ratio=0.3)"
      ]
     },
     "execution_count": 18,
     "metadata": {
      "tags": []
     },
     "output_type": "execute_result"
    }
   ],
   "source": [
    "eNet.fit(final.to_numpy(),y_train.to_numpy())"
   ]
  },
  {
   "cell_type": "markdown",
   "id": "37566e4f",
   "metadata": {
    "id": "37566e4f"
   },
   "source": [
    "# preparing test data"
   ]
  },
  {
   "cell_type": "code",
   "execution_count": null,
   "id": "c850b52e",
   "metadata": {
    "id": "c850b52e"
   },
   "outputs": [],
   "source": [
    "df2= x_test.select_dtypes(np.number)"
   ]
  },
  {
   "cell_type": "code",
   "execution_count": null,
   "id": "2b380a61",
   "metadata": {
    "id": "2b380a61"
   },
   "outputs": [],
   "source": [
    "temp = ss.transform(df2)\n",
    "final= pd.DataFrame(temp,columns=df2.columns)"
   ]
  },
  {
   "cell_type": "code",
   "execution_count": null,
   "id": "813a5f35",
   "metadata": {
    "id": "813a5f35"
   },
   "outputs": [],
   "source": [
    "predictions_lr = lr.predict(final)\n",
    "predictions_sgd = sgdR.predict(final)"
   ]
  },
  {
   "cell_type": "code",
   "execution_count": null,
   "id": "e9f60cdd",
   "metadata": {
    "id": "e9f60cdd"
   },
   "outputs": [],
   "source": [
    "from sklearn.metrics import mean_squared_error, r2_score"
   ]
  },
  {
   "cell_type": "code",
   "execution_count": null,
   "id": "68d4b5bf",
   "metadata": {
    "id": "68d4b5bf",
    "outputId": "3818a1e7-9059-4546-e3bb-063e69b516b8"
   },
   "outputs": [
    {
     "data": {
      "text/plain": [
       "1.7016548177727793"
      ]
     },
     "execution_count": 23,
     "metadata": {
      "tags": []
     },
     "output_type": "execute_result"
    }
   ],
   "source": [
    "np.sqrt(mean_squared_error(predictions_lr, y_test))"
   ]
  },
  {
   "cell_type": "code",
   "execution_count": null,
   "id": "d49ef1a5",
   "metadata": {
    "id": "d49ef1a5",
    "outputId": "2497f7ce-5539-4412-c07d-309bef4177ea"
   },
   "outputs": [
    {
     "data": {
      "text/plain": [
       "0.6365549578759999"
      ]
     },
     "execution_count": 24,
     "metadata": {
      "tags": []
     },
     "output_type": "execute_result"
    }
   ],
   "source": [
    "r2_score(predictions_lr, y_test)"
   ]
  },
  {
   "cell_type": "code",
   "execution_count": null,
   "id": "6c71e429",
   "metadata": {
    "id": "6c71e429",
    "outputId": "a5d5ae5e-ecfa-45f9-cce6-862ee3d6217a"
   },
   "outputs": [
    {
     "data": {
      "text/plain": [
       "0.6187618659726922"
      ]
     },
     "execution_count": 32,
     "metadata": {
      "tags": []
     },
     "output_type": "execute_result"
    }
   ],
   "source": [
    "r2_score(predictions_sgd, y_test)"
   ]
  },
  {
   "cell_type": "code",
   "execution_count": null,
   "id": "9785050b",
   "metadata": {
    "id": "9785050b"
   },
   "outputs": [],
   "source": [
    "predictions_lasso = lasso.predict(final)\n",
    "predictions_ridge = ridge.predict(final)\n",
    "predictions_enet = eNet.predict(final)"
   ]
  },
  {
   "cell_type": "code",
   "execution_count": null,
   "id": "55c46f0f",
   "metadata": {
    "id": "55c46f0f",
    "outputId": "8e6b471e-0209-43e0-b2fe-4d6b280a704f"
   },
   "outputs": [
    {
     "data": {
      "text/plain": [
       "2.0672201553700518"
      ]
     },
     "execution_count": 29,
     "metadata": {
      "tags": []
     },
     "output_type": "execute_result"
    }
   ],
   "source": [
    "np.sqrt(mean_squared_error(predictions_lasso, y_test))"
   ]
  },
  {
   "cell_type": "code",
   "execution_count": null,
   "id": "ceb6a036",
   "metadata": {
    "id": "ceb6a036",
    "outputId": "6350531a-caf4-4985-e240-4365a9ce0241"
   },
   "outputs": [
    {
     "data": {
      "text/plain": [
       "1.7013235724820792"
      ]
     },
     "execution_count": 30,
     "metadata": {
      "tags": []
     },
     "output_type": "execute_result"
    }
   ],
   "source": [
    "np.sqrt(mean_squared_error(predictions_ridge, y_test))"
   ]
  },
  {
   "cell_type": "code",
   "execution_count": null,
   "id": "256a28dc",
   "metadata": {
    "id": "256a28dc",
    "outputId": "304e6f4b-eb87-4534-b258-59a95910c6b1"
   },
   "outputs": [
    {
     "data": {
      "text/plain": [
       "2.266100151581198"
      ]
     },
     "execution_count": 31,
     "metadata": {
      "tags": []
     },
     "output_type": "execute_result"
    }
   ],
   "source": [
    "np.sqrt(mean_squared_error(predictions_enet, y_test))"
   ]
  },
  {
   "cell_type": "code",
   "execution_count": null,
   "id": "ca48d49b",
   "metadata": {
    "id": "ca48d49b"
   },
   "outputs": [],
   "source": []
  }
 ],
 "metadata": {
  "colab": {
   "name": "vehicle performance prediction.ipynb",
   "provenance": []
  },
  "kernelspec": {
   "display_name": "Env",
   "language": "python",
   "name": "env"
  },
  "language_info": {
   "codemirror_mode": {
    "name": "ipython",
    "version": 3
   },
   "file_extension": ".py",
   "mimetype": "text/x-python",
   "name": "python",
   "nbconvert_exporter": "python",
   "pygments_lexer": "ipython3",
   "version": "3.9.6"
  }
 },
 "nbformat": 4,
 "nbformat_minor": 5
}
